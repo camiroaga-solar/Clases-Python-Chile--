{
  "cells": [
    {
      "cell_type": "markdown",
      "metadata": {
        "id": "view-in-github",
        "colab_type": "text"
      },
      "source": [
        "<a href=\"https://colab.research.google.com/github/camiroaga-solar/Clases-Python-Chile--/blob/main/Clase7_chile%2B%2B.ipynb\" target=\"_parent\"><img src=\"https://colab.research.google.com/assets/colab-badge.svg\" alt=\"Open In Colab\"/></a>"
      ]
    },
    {
      "cell_type": "markdown",
      "metadata": {
        "id": "s4gz0EdVxLPF"
      },
      "source": [
        "# Clase 7: Strings\n",
        "\n"
      ]
    },
    {
      "cell_type": "markdown",
      "metadata": {
        "id": "Xa7iubQieVBR"
      },
      "source": [
        "# 1) Sintaxis y operaciones básicas"
      ]
    },
    {
      "cell_type": "markdown",
      "source": [
        "## ¿Qué es una string?"
      ],
      "metadata": {
        "id": "ngrI00MM5t-h"
      }
    },
    {
      "cell_type": "markdown",
      "source": [
        "En la clase de tipos de datos introducimos las **strings** o cadenas de texto, que no son más que una secuencia de caracteres.\n",
        "\n",
        "Se crean utilizando comillas simples (') o dobles (\"\"):"
      ],
      "metadata": {
        "id": "GGFmg6hq5wCC"
      }
    },
    {
      "cell_type": "code",
      "source": [
        "string = 'Esto es una string'\n",
        "string_2 = \"Esto es otra string, esta vez usando comillas dobles\"\n",
        "print(string)\n",
        "print(string_2)\n"
      ],
      "metadata": {
        "id": "m7uNb-l8epcb"
      },
      "execution_count": null,
      "outputs": []
    },
    {
      "cell_type": "markdown",
      "source": [
        "## Concatenación de strings"
      ],
      "metadata": {
        "id": "7Ii8ESHD4O6e"
      }
    },
    {
      "cell_type": "markdown",
      "source": [
        "Como hemos visto en lecciones anteriores, las cadenas se pueden concatenar (es decir, unir) con el operador de suma: \"+\""
      ],
      "metadata": {
        "id": "oDsJh8gK4i4Y"
      }
    },
    {
      "cell_type": "code",
      "source": [
        "nombre = \"Juan \"\n",
        "apellido = \"Pérez\"\n",
        "nombre_completo = nombre + apellido\n",
        "print(nombre_completo)"
      ],
      "metadata": {
        "id": "kTpHxQuW4OoA"
      },
      "execution_count": null,
      "outputs": []
    },
    {
      "cell_type": "markdown",
      "source": [
        "¿Recuerdas qué pasará acá?"
      ],
      "metadata": {
        "id": "U7buHRbE4-6b"
      }
    },
    {
      "cell_type": "code",
      "source": [
        "número = \"1\"\n",
        "número_2 = \"5\"\n",
        "\n",
        "suma = número + número_2\n",
        "print(suma)"
      ],
      "metadata": {
        "id": "s6E_2mamhxM9"
      },
      "execution_count": null,
      "outputs": []
    },
    {
      "cell_type": "markdown",
      "source": [
        "El resultado fue \"15\" porque como número y número_2 son interpretados como **strings**, no como números. Lo que sea que esté **entre comillas** será una string."
      ],
      "metadata": {
        "id": "SMvS8nmU6vFx"
      }
    },
    {
      "cell_type": "markdown",
      "source": [
        "## Indexación y segmentación"
      ],
      "metadata": {
        "id": "XqIV2Ma1nheu"
      }
    },
    {
      "cell_type": "markdown",
      "source": [
        "¿Te acuerdas cuando en la clase pasada vimos cómo extraer elementos de listas?\n",
        "\n",
        "Por ejemplo:"
      ],
      "metadata": {
        "id": "sSD0NmR-8L3B"
      }
    },
    {
      "cell_type": "code",
      "source": [
        "lista = [\"Mario\", \"Luigi\", \"Bowser\", \"Yoshi\" ]"
      ],
      "metadata": {
        "id": "OOfFpN168Le1"
      },
      "execution_count": 2,
      "outputs": []
    },
    {
      "cell_type": "code",
      "source": [
        "lista[0]"
      ],
      "metadata": {
        "id": "KHL5f4iA9BK9"
      },
      "execution_count": null,
      "outputs": []
    },
    {
      "cell_type": "markdown",
      "source": [
        "Lista[0] extrae el primer elemento, pues Python comienza a contar desde cero en vez de uno.\n",
        "\n",
        "De la misma manera, lista[1] extrae el segundo elemento de la lista, y lista[2] el tercero.\n",
        "\n",
        "¿Funcionará lo mismo con una string? Veamos"
      ],
      "metadata": {
        "id": "TaBblf5_9G0I"
      }
    },
    {
      "cell_type": "code",
      "source": [
        "string = \"Huachimingo\"\n",
        "\n",
        "string[0]"
      ],
      "metadata": {
        "id": "_xqE8Gxq9RtQ",
        "colab": {
          "base_uri": "https://localhost:8080/",
          "height": 35
        },
        "outputId": "d4f02921-5f90-40fe-e88a-a482b7f045ce"
      },
      "execution_count": 4,
      "outputs": [
        {
          "output_type": "execute_result",
          "data": {
            "text/plain": [
              "'H'"
            ],
            "application/vnd.google.colaboratory.intrinsic+json": {
              "type": "string"
            }
          },
          "metadata": {},
          "execution_count": 4
        }
      ]
    },
    {
      "cell_type": "markdown",
      "source": [
        "Como ves, también podemos usar la notación de corchetes para extraer elementos de las strings. Lo que se extrae en este caso son los diferentes caracteres de la string.\n",
        "\n",
        "Como siempre, Python comienza a contar de cero"
      ],
      "metadata": {
        "id": "SMEHL_qP-EAf"
      }
    },
    {
      "cell_type": "code",
      "source": [
        "for fruta in [\"plátano\", \"manzana\", \"naranja\"]:\n",
        "  print(fruta)"
      ],
      "metadata": {
        "id": "j-oPMRYSiIXv"
      },
      "execution_count": null,
      "outputs": []
    },
    {
      "cell_type": "code",
      "source": [
        "saludar()"
      ],
      "metadata": {
        "id": "ok7alPq4-tPR"
      },
      "execution_count": null,
      "outputs": []
    },
    {
      "cell_type": "markdown",
      "source": [
        "Entonces, **definir** una función significa darle nombre y decir qué hace, mientras que **ejecutarla** es cuando realizamos la tarea para la cual la función ha sido diseñada.\n",
        "\n",
        "Para funciones como *print* o *input*, no necesitamos definirlas, pues Python ya las trae predefinidas. Solamente las ejecutamos.\n",
        "\n",
        "Definamos otra función:"
      ],
      "metadata": {
        "id": "losuoUib_D3i"
      }
    },
    {
      "cell_type": "code",
      "source": [
        "def saludo_multiple(): #Nombre de la función\n",
        "  for i in [1,2,3,4]: # Lo que la función hace\n",
        "    print(\"Hola\")\n"
      ],
      "metadata": {
        "id": "1pDxUiZf_eNf"
      },
      "execution_count": null,
      "outputs": []
    },
    {
      "cell_type": "code",
      "source": [
        "saludo_multiple()"
      ],
      "metadata": {
        "id": "WmeEsLBY_oE_"
      },
      "execution_count": null,
      "outputs": []
    },
    {
      "cell_type": "markdown",
      "source": [
        "Esta función imprime un texto diez veces cada vez que se invoca."
      ],
      "metadata": {
        "id": "Ot4xmuIAVrtQ"
      }
    },
    {
      "cell_type": "markdown",
      "source": [
        "## Ejercicio 1"
      ],
      "metadata": {
        "id": "gOKtfKm5AzMQ"
      }
    },
    {
      "cell_type": "markdown",
      "source": [
        "Crea una función llamada \"enumerar\" que imprime todos los números del 1 al 100 cada vez que se invoca. Puedes usar un loop \"for\" o \"while\" acá.\n",
        "\n",
        "Nota al tutor: por el momento no es necesario que la función tenga parámetros o devuelva algo, es solo que imprima los 100 números."
      ],
      "metadata": {
        "id": "IFU246FJA1ZK"
      }
    },
    {
      "cell_type": "code",
      "source": [
        "def enumerar():\n",
        "  for numero in [1,2,3,4,5,6,7,8,9,10]:\n",
        "    print(numero)"
      ],
      "metadata": {
        "id": "AgzoewaJAyLc"
      },
      "execution_count": null,
      "outputs": []
    },
    {
      "cell_type": "code",
      "source": [
        "enumerar()\n",
        "enumerar()\n",
        "enumerar()"
      ],
      "metadata": {
        "id": "Ln738uYFjNau"
      },
      "execution_count": null,
      "outputs": []
    },
    {
      "cell_type": "markdown",
      "source": [
        "# 2) Argumentos en funciones"
      ],
      "metadata": {
        "id": "S7ozQIkGEhbo"
      }
    },
    {
      "cell_type": "markdown",
      "source": [
        "## Definiendo funciones con argumentos"
      ],
      "metadata": {
        "id": "RwTHoOeiZnpx"
      }
    },
    {
      "cell_type": "markdown",
      "source": [
        "Muchas veces queremos que las funciones reciban objetos que luego serán utilizados dentro de la función.\n",
        "\n",
        "Estos valores que las funciones toman en su ejecución se llaman **argumentos**. Veamos un ejemplo:"
      ],
      "metadata": {
        "id": "641TEaU4EltD"
      }
    },
    {
      "cell_type": "code",
      "source": [
        "def saludar(nombre):\n",
        "  print(\"Hola\", nombre)"
      ],
      "metadata": {
        "id": "MX1lDDRWElKt"
      },
      "execution_count": null,
      "outputs": []
    },
    {
      "cell_type": "code",
      "source": [
        "def presentarse(nombre):\n",
        "  print(\"Me llamo\", nombre)"
      ],
      "metadata": {
        "id": "qOpnoqPsjdJt"
      },
      "execution_count": null,
      "outputs": []
    },
    {
      "cell_type": "code",
      "source": [
        "presentarse(\"Mario\")"
      ],
      "metadata": {
        "id": "89ppkSPzjjh1"
      },
      "execution_count": null,
      "outputs": []
    },
    {
      "cell_type": "code",
      "source": [
        "def duplicar(numero):\n",
        "  print(numero * 2)"
      ],
      "metadata": {
        "id": "9VEA4hZEjm9V"
      },
      "execution_count": null,
      "outputs": []
    },
    {
      "cell_type": "code",
      "source": [
        "def triplicar(numero):\n",
        "  print(numero * 3)"
      ],
      "metadata": {
        "id": "J55rbQEGjzkH"
      },
      "execution_count": null,
      "outputs": []
    },
    {
      "cell_type": "code",
      "source": [
        "def funcion_misterio(nombre, apellido):\n",
        "  print(\"Hola\", nombre, apellido)"
      ],
      "metadata": {
        "id": "f_cwi3VPj8r7"
      },
      "execution_count": null,
      "outputs": []
    },
    {
      "cell_type": "code",
      "source": [
        "funcion_misterio(\"Mario\", \"Hugo\")"
      ],
      "metadata": {
        "id": "DlxHidP_kEaN"
      },
      "execution_count": null,
      "outputs": []
    },
    {
      "cell_type": "code",
      "source": [
        "triplicar(4)"
      ],
      "metadata": {
        "id": "9LRCC85gj6IY"
      },
      "execution_count": null,
      "outputs": []
    },
    {
      "cell_type": "code",
      "source": [
        "duplicar(5)"
      ],
      "metadata": {
        "id": "YcQxQz22jsO0"
      },
      "execution_count": null,
      "outputs": []
    },
    {
      "cell_type": "markdown",
      "source": [
        "Todavía no pasa nada... porque nuevamente solo hemos definido la función, todavía no la hemos ejecutado\n",
        "\n",
        "Porque solo hemos definido la función, todavía no la hemos llamado.\n",
        "\n",
        "La variable \"nombre\" en la primera línea significa que cuando ejecutamos la función, tenemos que pasarle como argumento un objeto, y luego este objeto será usado en la segunda línea dentro del print.\n",
        "\n",
        "Veamos un ejemplo:\n"
      ],
      "metadata": {
        "id": "UcUHwrAoG3ND"
      }
    },
    {
      "cell_type": "code",
      "source": [
        "saludar(\"Rodrigo\")"
      ],
      "metadata": {
        "id": "S1mrIfz-I_JR"
      },
      "execution_count": null,
      "outputs": []
    },
    {
      "cell_type": "code",
      "source": [
        "saludar(\"Minion\")"
      ],
      "metadata": {
        "id": "qjYBzFy6JCPu"
      },
      "execution_count": null,
      "outputs": []
    },
    {
      "cell_type": "code",
      "source": [
        "saludar(\"Mario\")"
      ],
      "metadata": {
        "id": "AqvJTA9VIuaM"
      },
      "execution_count": null,
      "outputs": []
    },
    {
      "cell_type": "markdown",
      "source": [
        "Veamos otro ejemplo, esta vez con números. ¿Qué hace la función aquí?"
      ],
      "metadata": {
        "id": "L7WK4fmzhcka"
      }
    },
    {
      "cell_type": "code",
      "source": [
        "def duplicar(numero):\n",
        "  print(numero * 2)\n"
      ],
      "metadata": {
        "id": "yoUPC_iWhitF"
      },
      "execution_count": null,
      "outputs": []
    },
    {
      "cell_type": "code",
      "source": [
        "duplicar(10)\n",
        "duplicar(100)\n",
        "duplicar(1000)"
      ],
      "metadata": {
        "id": "OhNeo3Z0hn32"
      },
      "execution_count": null,
      "outputs": []
    },
    {
      "cell_type": "markdown",
      "source": [
        "Cada número que nosotros ponemos como argumento en la función, es duplicado."
      ],
      "metadata": {
        "id": "016Zbth2hwPg"
      }
    },
    {
      "cell_type": "code",
      "source": [],
      "metadata": {
        "id": "ZJ50fWKpkqbC"
      },
      "execution_count": null,
      "outputs": []
    },
    {
      "cell_type": "markdown",
      "source": [
        "Escribe una función que reciba dos números y devuelva su multiplicación.\n"
      ],
      "metadata": {
        "id": "Tn1A-HFYXF8C"
      }
    },
    {
      "cell_type": "code",
      "source": [
        "def multiplicar(a,b):\n",
        "  print(a * b)"
      ],
      "metadata": {
        "id": "f8Y0XDBxXFkp"
      },
      "execution_count": null,
      "outputs": []
    },
    {
      "cell_type": "code",
      "source": [],
      "metadata": {
        "id": "GX5UjU_8k1w7"
      },
      "execution_count": null,
      "outputs": []
    },
    {
      "cell_type": "code",
      "source": [
        "multiplicar(6,7)"
      ],
      "metadata": {
        "id": "4JphZU5UXV0t"
      },
      "execution_count": null,
      "outputs": []
    },
    {
      "cell_type": "markdown",
      "source": [
        "Recibe un número, y si es igual a 10, imprime \"gatito\" y si no \"perrito\""
      ],
      "metadata": {
        "id": "QLRY0viKc0S9"
      }
    },
    {
      "cell_type": "code",
      "source": [
        "def funcion_animales(numero):\n",
        "  if numero == 10:\n",
        "    print(\"gatito\")\n",
        "  else:\n",
        "    print(\"perrito\")\n",
        "\n",
        "\n",
        "\n"
      ],
      "metadata": {
        "id": "3kbWb7bhc6tU"
      },
      "execution_count": null,
      "outputs": []
    },
    {
      "cell_type": "code",
      "source": [
        "funcion_animales(10)"
      ],
      "metadata": {
        "id": "2kNxRxf2lTe1"
      },
      "execution_count": null,
      "outputs": []
    },
    {
      "cell_type": "code",
      "source": [
        "son_iguales(10,10)\n",
        "son_iguales(10,11)"
      ],
      "metadata": {
        "id": "T6EmqgHnc-JI"
      },
      "execution_count": null,
      "outputs": []
    },
    {
      "cell_type": "markdown",
      "source": [
        "## Ejercicio 2"
      ],
      "metadata": {
        "id": "FtO23boIYCuK"
      }
    },
    {
      "cell_type": "markdown",
      "source": [
        "Realicemos estas tres funciones, cada una de ellas recibe dos argumentos.\n",
        "\n",
        "1) Escribe una función que recibe dos argumentos, un \"nombre\" y un \"apellido\", y luego imprime \"Hola (nombre) (apellido)\".\n",
        "\n",
        "2) Escribe una función que reciba dos números y devuelva su multiplicación.\n",
        "\n",
        "3) Escribe una función que recibe dos números, e imprime \"El primero es mayor\" si es así, y si no, \"El primero es menor\".\n"
      ],
      "metadata": {
        "id": "FOZmMB4wYFJE"
      }
    },
    {
      "cell_type": "markdown",
      "metadata": {
        "id": "s-pb7f-AxlUm"
      },
      "source": [
        "# 3) \"Return\" en funciones"
      ]
    },
    {
      "cell_type": "markdown",
      "source": [
        "## La expresión return"
      ],
      "metadata": {
        "id": "Bns9UXCofYDU"
      }
    },
    {
      "cell_type": "markdown",
      "metadata": {
        "id": "MjtSaI-bInBt"
      },
      "source": [
        "Hasta ahora nuestras funciones han estado imprimiendo cosas, pero a veces queremos que nuestras funciones devuelvan un valor que podemos usar en otra parte de nuestro programa.\n",
        "\n",
        "Para esto usamos una expresión **return**:\n"
      ]
    },
    {
      "cell_type": "code",
      "source": [
        "def cuadrado(numero):\n",
        "    return numero * numero\n",
        "\n",
        "numero_cuadrado = cuadrado(numero)"
      ],
      "metadata": {
        "id": "pyLD_FNCO8ok"
      },
      "execution_count": null,
      "outputs": []
    },
    {
      "cell_type": "code",
      "source": [
        "cuadrado(6)"
      ],
      "metadata": {
        "id": "1D2hrxTxmAi4"
      },
      "execution_count": null,
      "outputs": []
    },
    {
      "cell_type": "markdown",
      "source": [
        "En este ejemplo, la función cuadrado toma un número x y devuelve x al cuadrado.\n",
        "\n",
        "Cuando llamamos a la función con cuadrado(3), la función calcula 3 ** 2, que es 9, y devuelve este valor.\n",
        "\n",
        "Este valor devuelto luego se captura asignándolo a una variable."
      ],
      "metadata": {
        "id": "lmrhe5jgPDTV"
      }
    },
    {
      "cell_type": "markdown",
      "source": [
        "¡Atención! Cuando usamos un **return**, la función termina de ejecutarse. Es decir, lo que viene después de una expresión **return**, no es ejecutado.\n",
        "\n",
        "Por ejemplo, en el código siguiente, la expresión print no será ejecutada."
      ],
      "metadata": {
        "id": "CY8bKp0gZ8LY"
      }
    },
    {
      "cell_type": "code",
      "source": [
        "def cuadrado(x):\n",
        "    return x ** 2\n",
        "    print(\"esto no se imprimirá\")\n",
        "\n"
      ],
      "metadata": {
        "id": "zDfKv_45PDAX"
      },
      "execution_count": null,
      "outputs": []
    },
    {
      "cell_type": "code",
      "source": [
        "resultado = cuadrado(3)\n",
        "print(resultado)"
      ],
      "metadata": {
        "id": "3_PzJw0Bex_2"
      },
      "execution_count": null,
      "outputs": []
    },
    {
      "cell_type": "markdown",
      "source": [
        "Muchas veces cuando tenemos un if/else, tenemos dos **return** dentro de la misma función, pero solo uno de los dos se ejecutará:"
      ],
      "metadata": {
        "id": "eMOTq_0AeXGx"
      }
    },
    {
      "cell_type": "code",
      "source": [],
      "metadata": {
        "id": "P_rID94CedrV"
      },
      "execution_count": null,
      "outputs": []
    },
    {
      "cell_type": "code",
      "source": [
        "signo(-2)\n",
        "signo(4)"
      ],
      "metadata": {
        "id": "F7W-7vCTmSwu"
      },
      "execution_count": null,
      "outputs": []
    },
    {
      "cell_type": "markdown",
      "source": [
        "## Ejercicio 3\n",
        "\n"
      ],
      "metadata": {
        "id": "gLnN3K2RaoUA"
      }
    },
    {
      "cell_type": "markdown",
      "source": [
        "1) Escribe una función que recibe como argumento el radio de un círculo, y devuelve el área de este círculo usando \"return\".\n",
        "\n",
        "2) Escribe una función que recibe un número y devuelve True si es par, False si es impar. Acá puede ser útil el operador \"%\" 😉"
      ],
      "metadata": {
        "id": "rzxyvJ6Dfxep"
      }
    },
    {
      "cell_type": "code",
      "source": [
        "#Escribe tu código acá"
      ],
      "metadata": {
        "id": "pxTdvEH5fyW5"
      },
      "execution_count": null,
      "outputs": []
    },
    {
      "cell_type": "markdown",
      "source": [
        "## Funciones dentro de otras funciones"
      ],
      "metadata": {
        "id": "zzgJE9tUfVP1"
      }
    },
    {
      "cell_type": "markdown",
      "source": [
        "Ahora que podemos almacenar el resultado de una función en una variable, podemos combinar funciones para lograr reslutados más complejos:"
      ],
      "metadata": {
        "id": "8JqVfgalfQW5"
      }
    },
    {
      "cell_type": "code",
      "source": [
        "def perimetro_rectangulo(ancho,alto):\n",
        "  print((ancho + alto) * 2)\n"
      ],
      "metadata": {
        "id": "1qvN4GHZgA4U"
      },
      "execution_count": null,
      "outputs": []
    },
    {
      "cell_type": "code",
      "source": [
        "perimetro_rectangulo(4,2)"
      ],
      "metadata": {
        "id": "hThNowRwoQPk"
      },
      "execution_count": null,
      "outputs": []
    },
    {
      "cell_type": "code",
      "source": [
        "4,4,2,2 -> 12"
      ],
      "metadata": {
        "id": "l3IvT0NUnu-e"
      },
      "execution_count": null,
      "outputs": []
    },
    {
      "cell_type": "markdown",
      "source": [
        "Ejecutemos la función \"imprimir_doble\" con el número 10:"
      ],
      "metadata": {
        "id": "CEPCJpy-gKQC"
      }
    },
    {
      "cell_type": "code",
      "source": [
        "imprimir_doble(10)"
      ],
      "metadata": {
        "id": "BTi5jP74gNxU"
      },
      "execution_count": null,
      "outputs": []
    },
    {
      "cell_type": "markdown",
      "source": [
        "Aquí invocamos la función \"doble\" dentro de la función \"imprimir_doble\". Esto permite ahorrar líneas de código y hacer operaciones más complejas de manera más breve.\n",
        "\n",
        "Otro ejemplo:"
      ],
      "metadata": {
        "id": "G8V_-ZnYgWdj"
      }
    },
    {
      "cell_type": "code",
      "source": [
        "#Crea una función que recibe dos números e imprime el menor de ellos\n",
        "\n",
        "def menor(numero1, numero2):\n",
        "  if numero1 < numero2:\n",
        "    print(numero1)\n",
        "  else:\n",
        "    print(numero2)"
      ],
      "metadata": {
        "id": "LZTdK3ewgobF"
      },
      "execution_count": null,
      "outputs": []
    },
    {
      "cell_type": "code",
      "source": [
        "menor(4,2)"
      ],
      "metadata": {
        "id": "YdihGnR_owxA"
      },
      "execution_count": null,
      "outputs": []
    },
    {
      "cell_type": "markdown",
      "source": [
        "Crea una función que tome dos números y devuelva su división. Si el segundo número es cero, debe devolver un mensaje de error."
      ],
      "metadata": {
        "id": "Dxnsk6LBg1PH"
      }
    },
    {
      "cell_type": "code",
      "source": [
        "def tablas(numero):\n",
        "  for indice in [1,2,3,4,5,6,7,8,9,10]:\n",
        "    print(indice * numero)"
      ],
      "metadata": {
        "id": "tY9I6bnto509"
      },
      "execution_count": null,
      "outputs": []
    },
    {
      "cell_type": "code",
      "source": [
        "tablas(50)"
      ],
      "metadata": {
        "id": "4CkyApwlpKLz"
      },
      "execution_count": null,
      "outputs": []
    },
    {
      "cell_type": "markdown",
      "source": [],
      "metadata": {
        "id": "16m-__xbo5sG"
      }
    },
    {
      "cell_type": "markdown",
      "source": [
        "## Ejercicio 4"
      ],
      "metadata": {
        "id": "SUqic7QqhayA"
      }
    },
    {
      "cell_type": "markdown",
      "source": [
        "Crea una función \"promedio(a,b)\" que calcula el promedio entre dos numeros. Luego crea una que se llame \"comparar_promedios(a,b,c,d)\" que recibe cuatro numeros, y devuelve \"True\" solo si el promedio de a y b es igual al promedio de c y d."
      ],
      "metadata": {
        "id": "9869t1EBhcHt"
      }
    },
    {
      "cell_type": "code",
      "source": [
        "#Escribe tu código aquí"
      ],
      "metadata": {
        "id": "xaWgX0x2hrw_"
      },
      "execution_count": null,
      "outputs": []
    },
    {
      "cell_type": "markdown",
      "metadata": {
        "id": "deQ9mt5S76Sw"
      },
      "source": [
        "# Ejercicios opcionales"
      ]
    },
    {
      "cell_type": "markdown",
      "metadata": {
        "id": "rDCDmcVt79ZM"
      },
      "source": [
        "1) Crea una función que tome tres números y devuelva el menor de ellos.\n",
        "\n",
        "2) Crea una función que tome dos números y devuelva su división. Si el segundo número es cero, debe devolver un mensaje de error.\n",
        "\n",
        "3) Escribe una función que tome un número y devuelva su tabla de multiplicar hasta el 10."
      ]
    }
  ],
  "metadata": {
    "colab": {
      "provenance": [],
      "include_colab_link": true
    },
    "kernelspec": {
      "display_name": "Python 3",
      "name": "python3"
    },
    "language_info": {
      "codemirror_mode": {
        "name": "ipython",
        "version": 3
      },
      "file_extension": ".py",
      "mimetype": "text/x-python",
      "name": "python",
      "nbconvert_exporter": "python",
      "pygments_lexer": "ipython3",
      "version": "3.11.4"
    }
  },
  "nbformat": 4,
  "nbformat_minor": 0
}