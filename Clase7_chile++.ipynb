{
  "cells": [
    {
      "cell_type": "markdown",
      "metadata": {
        "id": "view-in-github",
        "colab_type": "text"
      },
      "source": [
        "<a href=\"https://colab.research.google.com/github/camiroaga-solar/Clases-Python-Chile--/blob/main/Clase7_chile%2B%2B.ipynb\" target=\"_parent\"><img src=\"https://colab.research.google.com/assets/colab-badge.svg\" alt=\"Open In Colab\"/></a>"
      ]
    },
    {
      "cell_type": "markdown",
      "metadata": {
        "id": "s4gz0EdVxLPF"
      },
      "source": [
        "# Clase 7: Strings\n",
        "\n"
      ]
    },
    {
      "cell_type": "markdown",
      "metadata": {
        "id": "Xa7iubQieVBR"
      },
      "source": [
        "# 1) Sintaxis y operaciones básicas"
      ]
    },
    {
      "cell_type": "markdown",
      "source": [
        "## ¿Qué es una string?"
      ],
      "metadata": {
        "id": "ngrI00MM5t-h"
      }
    },
    {
      "cell_type": "markdown",
      "source": [
        "En la clase de tipos de datos introducimos las **strings** o cadenas de texto, que no son más que una secuencia de caracteres.\n",
        "\n",
        "Se crean utilizando comillas simples (') o dobles (\"\"):"
      ],
      "metadata": {
        "id": "GGFmg6hq5wCC"
      }
    },
    {
      "cell_type": "code",
      "source": [
        "string = 'Esto es una string'\n",
        "string_2 = \"Esto es otra string, esta vez usando comillas dobles\"\n",
        "print(string)\n",
        "print(string_2)\n"
      ],
      "metadata": {
        "id": "m7uNb-l8epcb"
      },
      "execution_count": null,
      "outputs": []
    },
    {
      "cell_type": "markdown",
      "source": [
        "## Concatenación de strings"
      ],
      "metadata": {
        "id": "7Ii8ESHD4O6e"
      }
    },
    {
      "cell_type": "markdown",
      "source": [
        "Como hemos visto en lecciones anteriores, las cadenas se pueden concatenar (es decir, unir) con el operador de suma: \"+\""
      ],
      "metadata": {
        "id": "oDsJh8gK4i4Y"
      }
    },
    {
      "cell_type": "code",
      "source": [
        "nombre = \"Juan \"\n",
        "apellido = \"Pérez\"\n",
        "nombre_completo = nombre + apellido\n",
        "print(nombre_completo)"
      ],
      "metadata": {
        "id": "kTpHxQuW4OoA"
      },
      "execution_count": null,
      "outputs": []
    },
    {
      "cell_type": "markdown",
      "source": [
        "¿Recuerdas qué pasará acá?"
      ],
      "metadata": {
        "id": "U7buHRbE4-6b"
      }
    },
    {
      "cell_type": "code",
      "source": [
        "número = \"1\"\n",
        "número_2 = \"5\"\n",
        "\n",
        "suma = número + número_2\n",
        "print(suma)"
      ],
      "metadata": {
        "id": "s6E_2mamhxM9"
      },
      "execution_count": null,
      "outputs": []
    },
    {
      "cell_type": "markdown",
      "source": [
        "El resultado fue \"15\" porque como número y número_2 son interpretados como **strings**, no como números. Lo que sea que esté **entre comillas** será una string."
      ],
      "metadata": {
        "id": "SMvS8nmU6vFx"
      }
    },
    {
      "cell_type": "markdown",
      "source": [
        "## Indexación"
      ],
      "metadata": {
        "id": "XqIV2Ma1nheu"
      }
    },
    {
      "cell_type": "markdown",
      "source": [
        "¿Te acuerdas cuando en la clase pasada vimos cómo extraer elementos de listas?\n",
        "\n",
        "Por ejemplo:"
      ],
      "metadata": {
        "id": "sSD0NmR-8L3B"
      }
    },
    {
      "cell_type": "code",
      "source": [
        "lista = [\"Mario\", \"Luigi\", \"Bowser\", \"Yoshi\" ]"
      ],
      "metadata": {
        "id": "OOfFpN168Le1"
      },
      "execution_count": 2,
      "outputs": []
    },
    {
      "cell_type": "code",
      "source": [
        "lista[0]"
      ],
      "metadata": {
        "id": "KHL5f4iA9BK9"
      },
      "execution_count": null,
      "outputs": []
    },
    {
      "cell_type": "markdown",
      "source": [
        "Lista[0] extrae el primer elemento, pues Python comienza a contar desde cero en vez de uno.\n",
        "\n",
        "De la misma manera, lista[1] extrae el segundo elemento de la lista, y lista[2] el tercero.\n",
        "\n",
        "¿Funcionará lo mismo con una string? Veamos"
      ],
      "metadata": {
        "id": "TaBblf5_9G0I"
      }
    },
    {
      "cell_type": "code",
      "source": [
        "string = \"Huachimingo\"\n",
        "\n",
        "string[0]"
      ],
      "metadata": {
        "id": "_xqE8Gxq9RtQ"
      },
      "execution_count": null,
      "outputs": []
    },
    {
      "cell_type": "markdown",
      "source": [
        "Como ves, también podemos usar la notación de corchetes para extraer elementos de las strings. Lo que se extrae en este caso son los diferentes caracteres de la string.\n",
        "\n",
        "Como siempre, Python comienza a contar de cero.\n",
        "\n",
        "Extraigamos la tercera letra entonces:"
      ],
      "metadata": {
        "id": "SMEHL_qP-EAf"
      }
    },
    {
      "cell_type": "code",
      "source": [
        "string[2]"
      ],
      "metadata": {
        "id": "j-oPMRYSiIXv"
      },
      "execution_count": null,
      "outputs": []
    },
    {
      "cell_type": "markdown",
      "source": [
        "Ojo 👁️, con los corchetes extraemos cualquier caracter dentro de la string, no solo letras.\n",
        "\n",
        "Veamos un ejemplo. ¿Cuál crees que será el quinto elemento de esta atring?"
      ],
      "metadata": {
        "id": "RXhsgJVuo4hl"
      }
    },
    {
      "cell_type": "code",
      "source": [
        "frase = \"Hola amigo\"\n",
        "frase[4]"
      ],
      "metadata": {
        "id": "pDPTT5ZOpsN_"
      },
      "execution_count": null,
      "outputs": []
    },
    {
      "cell_type": "markdown",
      "source": [
        "El quinto elemento (indexado con el número 4 por Python) corresponde al espacio (\" \"), pues para Python esto también es un caracter.\n",
        "\n",
        "Podemos verificar esto atravesando la string con un loop **for** pidiéndole que imprima cada uno de los caracteres que recorre:"
      ],
      "metadata": {
        "id": "losuoUib_D3i"
      }
    },
    {
      "cell_type": "code",
      "source": [
        "for letra in \"Hola me llamo Hugo\":\n",
        "  print(letra)"
      ],
      "metadata": {
        "id": "1pDxUiZf_eNf"
      },
      "execution_count": null,
      "outputs": []
    },
    {
      "cell_type": "markdown",
      "source": [
        "Esta función imprime un texto diez veces cada vez que se invoca."
      ],
      "metadata": {
        "id": "Ot4xmuIAVrtQ"
      }
    },
    {
      "cell_type": "markdown",
      "source": [
        "## Segmentación"
      ],
      "metadata": {
        "id": "gOKtfKm5AzMQ"
      }
    },
    {
      "cell_type": "markdown",
      "source": [
        "Al igual que como indexamos, también podemos segmentar las strings.\n",
        "\n",
        "Recordemos cómo se segmentaban las listas:"
      ],
      "metadata": {
        "id": "IFU246FJA1ZK"
      }
    },
    {
      "cell_type": "code",
      "source": [
        "lista = [\"Mercurio\", \"Venus\", \"Tierra\", \"Marte\"]\n",
        "lista[1:3]"
      ],
      "metadata": {
        "id": "AgzoewaJAyLc"
      },
      "execution_count": null,
      "outputs": []
    },
    {
      "cell_type": "markdown",
      "source": [
        "¡Recuerda que en lista[1:3], el índice inicial (1) está incluido, pero el índice final (3) no lo está!\n",
        "\n",
        "Veamos lo mismo en una string:"
      ],
      "metadata": {
        "id": "A8q_KMJU2D_8"
      }
    },
    {
      "cell_type": "code",
      "source": [
        "string = \"Más vale pájaro en mano que 100 volando\"\n",
        "string[5:20]"
      ],
      "metadata": {
        "id": "Ln738uYFjNau"
      },
      "execution_count": null,
      "outputs": []
    },
    {
      "cell_type": "markdown",
      "source": [
        "Extrajimos todos los carácters desde el índice 5 hasta el índice 20.\n",
        "\n",
        "¿Podrías extraer la palabra Python de esta string entonces?"
      ],
      "metadata": {
        "id": "nYLb_Nsg28Le"
      }
    },
    {
      "cell_type": "code",
      "source": [
        "frase = \"Programando con Python\"\n",
        "palabra_extraida = #Extrae la palabra Python aquí"
      ],
      "metadata": {
        "id": "a-EeZ1VT6n1Z"
      },
      "execution_count": null,
      "outputs": []
    },
    {
      "cell_type": "markdown",
      "source": [
        "## Ejercicio 1"
      ],
      "metadata": {
        "id": "mphVmq_B3TXk"
      }
    },
    {
      "cell_type": "markdown",
      "source": [
        "Muchas palabras del español que vienen del árabe comienzan con \"al-\". Por ejemplo, \"almohada\" o \"alcalde\".\n",
        "\n",
        "Crea una función que reciba una palabra, y si la palabra comienza con \"al\", entonces imprime o devuelve \"Palabra de posible origen árabe\", y si no, dice \"Sigue buscando\"."
      ],
      "metadata": {
        "id": "vmOSr1jQ3Vke"
      }
    },
    {
      "cell_type": "code",
      "source": [
        "#Escribe aquí tu función"
      ],
      "metadata": {
        "id": "XQW8kSaUVFaF"
      },
      "execution_count": null,
      "outputs": []
    },
    {
      "cell_type": "markdown",
      "source": [
        "## Indexación y segmentación con índices negativos"
      ],
      "metadata": {
        "id": "ts9NFmWCR5i0"
      }
    },
    {
      "cell_type": "markdown",
      "source": [
        "En la lección pasada dejamos como ejercicio opcional\n",
        "explorar qué pasa cuando ponemos como índice un número negativo, por ejemplo en **lista[-1]**.\n",
        "\n",
        "Veamos qué pasa cuando hacemos esto, en listas y en strings:"
      ],
      "metadata": {
        "id": "W2vSa7XdV8Cg"
      }
    },
    {
      "cell_type": "code",
      "source": [
        "string= \"Hola\"\n",
        "string[-1]"
      ],
      "metadata": {
        "id": "MbpdbKeg2c-s"
      },
      "execution_count": null,
      "outputs": []
    },
    {
      "cell_type": "code",
      "source": [
        "lista = [\"Mario\", \"Hugo\", \"Johnny\", \"Minion\"]\n",
        "lista[-1]"
      ],
      "metadata": {
        "id": "qgfLJuBh2f4F"
      },
      "execution_count": null,
      "outputs": []
    },
    {
      "cell_type": "markdown",
      "source": [
        "Lo que hace es buscar el último elmento de la lista o de la string.\n",
        "\n",
        "¿Qué crees que hará esto?"
      ],
      "metadata": {
        "id": "46zJg8-M2q3T"
      }
    },
    {
      "cell_type": "code",
      "source": [
        "texto = \"Hola\"\n",
        "texto[-2]"
      ],
      "metadata": {
        "id": "Mdr7-o-42wMa"
      },
      "execution_count": null,
      "outputs": []
    },
    {
      "cell_type": "markdown",
      "source": [
        "Nos da el penúltimo elemento de la string. Y [-3] nos dará el antepenúltimo elemento."
      ],
      "metadata": {
        "id": "FoiUZ78U235G"
      }
    },
    {
      "cell_type": "markdown",
      "source": [
        "Veamos por ejemplo esta función que compara el primer con el último caracter de una string para saber si son iguales:"
      ],
      "metadata": {
        "id": "E9PHPC-f3b5g"
      }
    },
    {
      "cell_type": "code",
      "source": [
        "def primero_igual_a_ultimo(string):\n",
        "  if string[0] == string[-1]:\n",
        "    print(\"Son iguales\")\n",
        "  else:\n",
        "    print(\"No son iguales\")"
      ],
      "metadata": {
        "id": "WywriXXH3h7f"
      },
      "execution_count": 4,
      "outputs": []
    },
    {
      "cell_type": "code",
      "source": [
        "primero_igual_a_ultimo(\"Hola\")"
      ],
      "metadata": {
        "id": "imjsZrM43nhx"
      },
      "execution_count": null,
      "outputs": []
    },
    {
      "cell_type": "markdown",
      "source": [
        "En este nos dice que no son iguales, así que probemos con una palabra que comienza y termina con la misma palabra como \"Abarca\":"
      ],
      "metadata": {
        "id": "BVWcrBKn37wg"
      }
    },
    {
      "cell_type": "code",
      "source": [
        "primero_igual_a_ultimo(\"Abarca\")\n"
      ],
      "metadata": {
        "id": "gL-IRyuE3qqV"
      },
      "execution_count": null,
      "outputs": []
    },
    {
      "cell_type": "markdown",
      "source": [
        "¿Por qué no funciona? 😨\n",
        "\n",
        "Es porque Python cuenta \"A\" y \"a\" como caracteres distintos. ¡Las mayúsculas son importantes!"
      ],
      "metadata": {
        "id": "Kwry_JQt4Gh1"
      }
    },
    {
      "cell_type": "code",
      "source": [
        "primero_igual_a_ultimo(\"abarca\")\n"
      ],
      "metadata": {
        "id": "f9SZgsiG4QTp"
      },
      "execution_count": null,
      "outputs": []
    },
    {
      "cell_type": "markdown",
      "source": [
        "## len"
      ],
      "metadata": {
        "id": "oSH8myyo4sxA"
      }
    },
    {
      "cell_type": "markdown",
      "source": [
        "**len** es una función muy útil que permite saber la longitud en caracteres de una string.\n",
        "\n",
        "Probémosla:"
      ],
      "metadata": {
        "id": "E3YT_6aV4vfe"
      }
    },
    {
      "cell_type": "code",
      "source": [
        "texto = \"Hola me llamo Minion\"\n",
        "len(texto)"
      ],
      "metadata": {
        "id": "MQewhrLy4u4I"
      },
      "execution_count": null,
      "outputs": []
    },
    {
      "cell_type": "markdown",
      "source": [
        "También podemos usarla en listas:"
      ],
      "metadata": {
        "id": "QeQeKcQQ5HMT"
      }
    },
    {
      "cell_type": "code",
      "source": [
        "lista = [\"manzanas\", \"peras\", \"naranjas\", \"plátanos\"]\n",
        "len(lista)"
      ],
      "metadata": {
        "id": "w6-XWrMn5JTO"
      },
      "execution_count": null,
      "outputs": []
    },
    {
      "cell_type": "markdown",
      "source": [
        "Atención a que **len** mide la longitud en cuando a **caracteres** en la string, pero en listas mide longitud en cuanto a **elementos**."
      ],
      "metadata": {
        "id": "pYnYNLnb5OOI"
      }
    },
    {
      "cell_type": "markdown",
      "source": [
        "## Ejercicio 2"
      ],
      "metadata": {
        "id": "gRFfJHtx5cEy"
      }
    },
    {
      "cell_type": "markdown",
      "source": [
        "Usando **len**, crea una función que recibe una string, y devuelve la primera mitad de ella.\n",
        "\n",
        "Luego crea otra que devuelve la segunda mitad de ella."
      ],
      "metadata": {
        "id": "hCxDJVrl5ejm"
      }
    },
    {
      "cell_type": "markdown",
      "source": [
        "# Métodos de string"
      ],
      "metadata": {
        "id": "mXw3lb8K5m1S"
      }
    },
    {
      "cell_type": "markdown",
      "source": [
        "Al igual que las listas, las strings también tienen **métodos**.\n",
        "\n",
        "Los **métodos** son funciones especiales que están asociadas a tipos específicos de objetos.\n",
        "\n",
        "Recuerda que se llaman de forma diferente a las funciones. Recordemos por ejemplo el método **.sort()** que ordena los elementos de una lista:"
      ],
      "metadata": {
        "id": "LL8l-B135pNH"
      }
    },
    {
      "cell_type": "code",
      "source": [
        "lista = [1,10,5,6,53,43]\n",
        "lista.sort()\n",
        "lista"
      ],
      "metadata": {
        "id": "n5DBqg7w7l5h"
      },
      "execution_count": null,
      "outputs": []
    },
    {
      "cell_type": "markdown",
      "source": [
        "Las string tienen muchos métodos, veamos algunos."
      ],
      "metadata": {
        "id": "Y3KZmVWv8IRO"
      }
    },
    {
      "cell_type": "markdown",
      "source": [
        "## Método .lower()"
      ],
      "metadata": {
        "id": "9vPcrhR98LoV"
      }
    },
    {
      "cell_type": "markdown",
      "source": [
        "Este método convierte todos los caracteres de un string a minúsculas."
      ],
      "metadata": {
        "id": "khDVOdB68QeZ"
      }
    },
    {
      "cell_type": "code",
      "source": [
        "texto = \"Hola Mundo\"\n",
        "texto_min = texto.lower()\n",
        "print(texto_min)"
      ],
      "metadata": {
        "id": "NjlWTCDw8S5K"
      },
      "execution_count": null,
      "outputs": []
    },
    {
      "cell_type": "markdown",
      "source": [
        "## Método .upper()"
      ],
      "metadata": {
        "id": "xJvYda048Zsk"
      }
    },
    {
      "cell_type": "markdown",
      "source": [
        "Si el métdoo **.lower()** convierte todos los caracteres a minúsculas, ¿qué crees que hará **.upper**?"
      ],
      "metadata": {
        "id": "4Sl90wHH8b2l"
      }
    },
    {
      "cell_type": "code",
      "source": [
        "texto = \"Hola Mundo\"\n",
        "texto_upper = texto.upper()\n",
        "print(texto_upper)"
      ],
      "metadata": {
        "id": "jWnFRFLw8wtv"
      },
      "execution_count": null,
      "outputs": []
    },
    {
      "cell_type": "markdown",
      "source": [
        "## Método .replace()"
      ],
      "metadata": {
        "id": "4HWgeNLR84g7"
      }
    },
    {
      "cell_type": "markdown",
      "source": [
        "Este método reemplaza una subcadena por otra en un string."
      ],
      "metadata": {
        "id": "A6lNIwxF9a4M"
      }
    },
    {
      "cell_type": "code",
      "source": [
        "texto = \"Hola Minion\"\n",
        "texto_nuevo = texto.replace(\"Minion\", \"Python\")\n",
        "texto_nuevo"
      ],
      "metadata": {
        "id": "XIomtlDE9jtP"
      },
      "execution_count": null,
      "outputs": []
    },
    {
      "cell_type": "markdown",
      "source": [
        "## Método .split()"
      ],
      "metadata": {
        "id": "gZBjxuGO-I82"
      }
    },
    {
      "cell_type": "markdown",
      "source": [
        "Este método divide un string en una lista de subcadenas, usando un delimitador específico que ponemos entre paréntesis:"
      ],
      "metadata": {
        "id": "_mLim4Ya-Ofg"
      }
    },
    {
      "cell_type": "code",
      "source": [
        "texto = \"Hola Minion\"\n",
        "texto_dividido = texto.split(\" \")\n",
        "print(texto_dividido)"
      ],
      "metadata": {
        "id": "wvcS_0Bj-RaO"
      },
      "execution_count": null,
      "outputs": []
    },
    {
      "cell_type": "markdown",
      "source": [
        "Como ves, la salida fue una lista de las palabras dentro de la string. Python pudo reconocer cada una de las palabras porque nosotros le especificamos que las separe en base al espacio (\" \")\n",
        "\n",
        "Este método es muy útil para separar palabras o segmentos dentro de una string que están separados por un delimitador.\n",
        "\n",
        "Convirtamos por ejemplo esta string en una lista de elementos separados:"
      ],
      "metadata": {
        "id": "BSpa_UKw-c0Y"
      }
    },
    {
      "cell_type": "code",
      "source": [
        "compras = \"manzanas,peras,arroz,leche,queso\"\n",
        "lista_compras = compras.split(\",\")\n",
        "print(lista_compras)"
      ],
      "metadata": {
        "id": "vbSU99Qq-16u"
      },
      "execution_count": null,
      "outputs": []
    },
    {
      "cell_type": "markdown",
      "source": [
        "Acá pusimos \",\" como separador, y así Python pudo reconocer los elementos individuales y ponerlos en una lista de manera separada.\n",
        "\n",
        "En teoría, podemos usar cualquier caracter como separador, pero no siempre es práctico:"
      ],
      "metadata": {
        "id": "idZTyHG8-91L"
      }
    },
    {
      "cell_type": "code",
      "source": [
        "compras = \"manzanas,peras,arroz,leche,queso\"\n",
        "lista_compras = compras.split(\"a\")\n",
        "print(lista_compras)"
      ],
      "metadata": {
        "id": "GIsr1DbV_XVw"
      },
      "execution_count": null,
      "outputs": []
    },
    {
      "cell_type": "markdown",
      "source": [
        "Acá las partes de la string fueron separados en base a las \"a\". ¡No tiene mucho sentido!\n",
        "\n",
        "Por eso siempre es importante ver cuál es el separador de las partes de la string. Generalmente será un punto, una coma o un espacio."
      ],
      "metadata": {
        "id": "qnBUx0Vk_aLX"
      }
    },
    {
      "cell_type": "markdown",
      "source": [
        "## Método .join()"
      ],
      "metadata": {
        "id": "FSNdx126_upO"
      }
    },
    {
      "cell_type": "markdown",
      "source": [
        "En cierta forma es como el opuesto de .split(), pues une elementos en una sola string usando un delimitador:"
      ],
      "metadata": {
        "id": "jU523gXE_xOf"
      }
    },
    {
      "cell_type": "code",
      "source": [
        "lista = [\"Hola\", \"me\", \"llamo\", \"Hugo\"]\n",
        "texto = \" \".join(lista)\n",
        "texto"
      ],
      "metadata": {
        "id": "wiTgpYVO_49j"
      },
      "execution_count": null,
      "outputs": []
    },
    {
      "cell_type": "markdown",
      "source": [
        "Unimos todos los elementos usando nuevamente el espacio \" \" como separador.\n",
        "\n",
        "¿Qué pasa si hacemos esto?"
      ],
      "metadata": {
        "id": "eH7y0z-dAgNO"
      }
    },
    {
      "cell_type": "code",
      "source": [
        "lista = [\"Hola\", \"me\", \"llamo\", \"Hugo\"]\n",
        "texto = \".\".join(lista)\n",
        "texto"
      ],
      "metadata": {
        "id": "upsfS7AaAmYQ"
      },
      "execution_count": null,
      "outputs": []
    },
    {
      "cell_type": "markdown",
      "source": [
        "¿y esto?"
      ],
      "metadata": {
        "id": "z2tPkcsVArBq"
      }
    },
    {
      "cell_type": "code",
      "source": [
        "lista = [\"Hola\", \"me\", \"llamo\", \"Hugo\"]\n",
        "texto = \" galleta \".join(lista)\n",
        "texto"
      ],
      "metadata": {
        "id": "j5byTzmWAsKP"
      },
      "execution_count": null,
      "outputs": []
    },
    {
      "cell_type": "markdown",
      "source": [
        "## Ejercicio 3"
      ],
      "metadata": {
        "id": "8icFx7lcAy_R"
      }
    },
    {
      "cell_type": "markdown",
      "source": [
        "Dado el siguiente string, reemplaza la palabra \"triste\" por \"feliz\" y convierte el resultado a mayúsculas:\n"
      ],
      "metadata": {
        "id": "913JeeFLA2SL"
      }
    },
    {
      "cell_type": "code",
      "source": [
        "mensaje = \"Hoy es un día triste\"\n",
        "\n",
        "#Escribe tu código acá"
      ],
      "metadata": {
        "id": "w-wsi_ZqA-E1"
      },
      "execution_count": null,
      "outputs": []
    },
    {
      "cell_type": "markdown",
      "source": [
        "Dada la siguiente lista de palabras, únelas en un solo string con comas y espacios como delimitador."
      ],
      "metadata": {
        "id": "pxjFz3JeBF21"
      }
    },
    {
      "cell_type": "code",
      "source": [
        "palabras = [\"manzana\", \"plátano\", \"cereza\", \"ciruela\"]\n",
        "\n",
        "#Escribe tu código acá"
      ],
      "metadata": {
        "id": "_hYtTC7jBHc8"
      },
      "execution_count": null,
      "outputs": []
    },
    {
      "cell_type": "markdown",
      "source": [
        "Por último, dado el siguiente string, primero divide las palabras en una lista y luego únelas de nuevo con un guión (-) como delimitador."
      ],
      "metadata": {
        "id": "pYL-Ov0RBTch"
      }
    },
    {
      "cell_type": "code",
      "source": [
        "oracion = \"Python es divertido y educativo\"\n",
        "\n",
        "#Escribe tu código aquí"
      ],
      "metadata": {
        "id": "jnoQ2dFSBbT8"
      },
      "execution_count": null,
      "outputs": []
    },
    {
      "cell_type": "markdown",
      "metadata": {
        "id": "deQ9mt5S76Sw"
      },
      "source": [
        "# Ejercicios opcionales"
      ]
    },
    {
      "cell_type": "markdown",
      "metadata": {
        "id": "rDCDmcVt79ZM"
      },
      "source": [
        "1) Crea una función que verifique si una string es un palíndromo o no.\n",
        "\n",
        "2) Escribe una función llamada contar_vocales que reciba un string y devuelva el número de vocales en el string (pídele a tu tutor que te enseñe a usar \"in\")\n",
        "\n",
        "3) Escribe una función llamada duplicar_consonantes que reciba un string y devuelva un nuevo string donde todas las consonantes se hayan duplicado."
      ]
    }
  ],
  "metadata": {
    "colab": {
      "provenance": [],
      "include_colab_link": true
    },
    "kernelspec": {
      "display_name": "Python 3",
      "name": "python3"
    },
    "language_info": {
      "codemirror_mode": {
        "name": "ipython",
        "version": 3
      },
      "file_extension": ".py",
      "mimetype": "text/x-python",
      "name": "python",
      "nbconvert_exporter": "python",
      "pygments_lexer": "ipython3",
      "version": "3.11.4"
    }
  },
  "nbformat": 4,
  "nbformat_minor": 0
}