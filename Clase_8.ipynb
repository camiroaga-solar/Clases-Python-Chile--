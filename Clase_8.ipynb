{
  "nbformat": 4,
  "nbformat_minor": 0,
  "metadata": {
    "colab": {
      "provenance": [],
      "collapsed_sections": [
        "8sMYgWy0nS_E",
        "UeFVvDVBtngz",
        "jSABNZv2vBUV"
      ],
      "authorship_tag": "ABX9TyPp6GTP5czRtcC+VNUmjwRU",
      "include_colab_link": true
    },
    "kernelspec": {
      "name": "python3",
      "display_name": "Python 3"
    },
    "language_info": {
      "name": "python"
    }
  },
  "cells": [
    {
      "cell_type": "markdown",
      "metadata": {
        "id": "view-in-github",
        "colab_type": "text"
      },
      "source": [
        "<a href=\"https://colab.research.google.com/github/camiroaga-solar/Clases-Python-Chile--/blob/main/Clase_8.ipynb\" target=\"_parent\"><img src=\"https://colab.research.google.com/assets/colab-badge.svg\" alt=\"Open In Colab\"/></a>"
      ]
    },
    {
      "cell_type": "markdown",
      "source": [
        "# Clase 8 : Diccionarios"
      ],
      "metadata": {
        "id": "ngS6o1odmofp"
      }
    },
    {
      "cell_type": "markdown",
      "source": [
        "Las últimas dos clases fueron dedicadas a dos tipos muy importantes de estructuras de datos: listas y strings.\n",
        "\n",
        "Ahora hablaremos de una tercera (y última en el curso) estructura de datos en Python: **el diccionario**"
      ],
      "metadata": {
        "id": "Jq-ZF6QamsX5"
      }
    },
    {
      "cell_type": "markdown",
      "source": [
        "## 1) Creación y definición de un diccionario"
      ],
      "metadata": {
        "id": "8sMYgWy0nS_E"
      }
    },
    {
      "cell_type": "markdown",
      "source": [
        "### Repaso de listas y strings"
      ],
      "metadata": {
        "id": "UeFVvDVBtngz"
      }
    },
    {
      "cell_type": "markdown",
      "source": [
        "Repasemos las listas y strigs antes de hablar de los diccionarios.\n",
        "\n",
        "Una **lista** es una colección ordenada que permiten almacenar múltiples elementos, que pueden ser de diferentes tipos. Se crean con **corchetes** [] ."
      ],
      "metadata": {
        "id": "Y2XvBhQhnXNB"
      }
    },
    {
      "cell_type": "code",
      "source": [
        "frutas = ['manzana', 'frutilla', 'cereza', 'durazno']"
      ],
      "metadata": {
        "id": "2RdMpPqImrx5"
      },
      "execution_count": null,
      "outputs": []
    },
    {
      "cell_type": "markdown",
      "source": [
        "Podemos acceder a elementos de ella, o también recorrerla con un loop **\"for\"**"
      ],
      "metadata": {
        "id": "HkTP3E26s-NZ"
      }
    },
    {
      "cell_type": "code",
      "source": [
        "#Acceder a un elemento de la lista\n",
        "\n",
        "print(frutas[1])"
      ],
      "metadata": {
        "id": "rk72hEv0tVin"
      },
      "execution_count": null,
      "outputs": []
    },
    {
      "cell_type": "code",
      "execution_count": null,
      "metadata": {
        "id": "2xc0jvS8jXFB"
      },
      "outputs": [],
      "source": [
        "#Atravesar la lista con un loop for\n",
        "\n",
        "for fruta in frutas:\n",
        "    print(fruta)"
      ]
    },
    {
      "cell_type": "markdown",
      "source": [
        "Una **string** o cadena de texto es una secuencia de caracteres. Para crearla se usan las comillas:"
      ],
      "metadata": {
        "id": "6q2tB4vvtqjD"
      }
    },
    {
      "cell_type": "code",
      "source": [
        "string = \"Hola amigo\""
      ],
      "metadata": {
        "id": "vVfOXWwbtqUd"
      },
      "execution_count": null,
      "outputs": []
    },
    {
      "cell_type": "markdown",
      "source": [
        "También podemos acceder a elementos de ella, y atravesarla con un loop for:"
      ],
      "metadata": {
        "id": "HkOmS5BXtzOm"
      }
    },
    {
      "cell_type": "code",
      "source": [
        "#Acceder a un elemento\n",
        "\n",
        "string[3]"
      ],
      "metadata": {
        "id": "BLbr2AwXucJL"
      },
      "execution_count": null,
      "outputs": []
    },
    {
      "cell_type": "code",
      "source": [
        "#Atravesar con un loop for\n",
        "\n",
        "for letra in string:\n",
        "  print(letra)"
      ],
      "metadata": {
        "id": "NwiEdT75uqyq"
      },
      "execution_count": null,
      "outputs": []
    },
    {
      "cell_type": "markdown",
      "source": [
        "### Crear un diccionario"
      ],
      "metadata": {
        "id": "jSABNZv2vBUV"
      }
    },
    {
      "cell_type": "markdown",
      "source": [
        "Un diccionario es una manera de **guardar datos en pares**.\n",
        "\n",
        "Así como en un diccionario real a cada **palabra** le corresponde una **definición**, en un diccionario de Python, a cada **clave** le corresponde un **valor**.\n",
        "\n",
        "**La clave** es una etiqueta para encontrar un dato en un diccionario.\n",
        "\n",
        "**El valor** es el dato que se guarda en el diccionario y está asociado a una clave\n",
        "\n",
        "Veamos un ejemplo:"
      ],
      "metadata": {
        "id": "3-BVikex8qYi"
      }
    },
    {
      "cell_type": "code",
      "source": [
        "contactos = {\n",
        "    'Juan': '123-456-789',\n",
        "    'María': '987-654-321',\n",
        "    'Carlos': '555-555-555'\n",
        "}"
      ],
      "metadata": {
        "id": "KQ4u6S8u9WCJ"
      },
      "execution_count": null,
      "outputs": []
    },
    {
      "cell_type": "markdown",
      "source": [
        "Acá en el diccionario \"contactos\":\n",
        "\n",
        "- \"Juan\", \"María\" y \"Carlos\" son las **claves**\n",
        "\n",
        "- '123-456-789', '987-654-321' y '555-555-555' son los **valores**\n",
        "\n",
        "Con la clave nosotros podemos buscar o identificar un valor. Por ejemplo, en este caso podemos encontrar el número de teléfono buscando en un nombre en el registro de contactos.\n",
        "\n",
        "Como vemos, los diccionarios se crean con llaves `{}`, las claves se separan de los valores con \":\", y los distintos elementos con comas:\n",
        "\n"
      ],
      "metadata": {
        "id": "8H_ze7Ld-UhC"
      }
    },
    {
      "cell_type": "code",
      "source": [
        "lista = [\"mario\", \"18 años\", \"luigi\", \"20 años\"] #Esto no es un diccionario, es una lista\n",
        "\n",
        "diccionario = [ \"mario\":\"18 años\", \"luigi\":\"20 años\" ] # Estos sí es un diccinario"
      ],
      "metadata": {
        "id": "JU6qTsEd-UNL"
      },
      "execution_count": null,
      "outputs": []
    },
    {
      "cell_type": "markdown",
      "source": [
        "**Una cosa muy importante: como las claves se usan para identificar los valores, tienen que ser únicas. No pueden haber dos valores con la misma clave.**"
      ],
      "metadata": {
        "id": "Leb-F45u-bXO"
      }
    },
    {
      "cell_type": "markdown",
      "source": [
        "Otro ejemplo. Creemos un diccionario para almacenar datos de una película:"
      ],
      "metadata": {
        "id": "aGYcHT-0_sGw"
      }
    },
    {
      "cell_type": "code",
      "source": [
        "pelicula = {\n",
        "    'título': 'Inception',\n",
        "    'año': 2010,\n",
        "    'director': 'Christopher Nolan',\n",
        "    'género': 'Ciencia ficción'\n",
        "}"
      ],
      "metadata": {
        "id": "G8fcSxwr_xL3"
      },
      "execution_count": null,
      "outputs": []
    },
    {
      "cell_type": "markdown",
      "source": [
        "### Ejercicio 1\n"
      ],
      "metadata": {
        "id": "vABMfEZK_5ad"
      }
    },
    {
      "cell_type": "markdown",
      "source": [
        "Crea un diccionario español-inglés en donde las **claves** sean las palabras en español, y los **valores** las palabras en inglés."
      ],
      "metadata": {
        "id": "fD1Px1FA_7ae"
      }
    },
    {
      "cell_type": "markdown",
      "source": [
        "## 2) Trabajando con diccionarios"
      ],
      "metadata": {
        "id": "3KxUQZc2KKlK"
      }
    },
    {
      "cell_type": "markdown",
      "source": [
        "### Acceder a elementos de un diccionario"
      ],
      "metadata": {
        "id": "v6uFHoxfAHsC"
      }
    },
    {
      "cell_type": "markdown",
      "source": [
        "Como vimos en la parte de strings y listas, se puede acceder a elementos de ellas a través de su **índice**:\n",
        "\n",
        "El **índice** es un **número** que representa la posición del elemento en la lista o string:\n",
        "\n",
        "Ojo! Recuerda que comienzan siempre desde cero."
      ],
      "metadata": {
        "id": "CKEGi8VuAKu9"
      }
    },
    {
      "cell_type": "code",
      "source": [
        "pájaros = [\"loro\", \"gaviota\", \"búho\"]\n",
        "print(pájaros[1])"
      ],
      "metadata": {
        "id": "8UM0N-KXAG_R"
      },
      "execution_count": null,
      "outputs": []
    },
    {
      "cell_type": "markdown",
      "source": [
        "La diferencia en los diccionarios es que no utilizamos un índice numérico, sino que **los índices son las claves.**\n",
        "\n",
        "Entonces, cuando queremos encontrar un valor, simplemente utilizamos la clave:"
      ],
      "metadata": {
        "id": "cYLs1zGeCF49"
      }
    },
    {
      "cell_type": "code",
      "source": [
        "diccionario = {\n",
        "    'nombre': 'Juan',\n",
        "    'edad': 22,\n",
        "    'carrera': 'Ingeniería'\n",
        "}\n",
        "\n",
        "\n",
        "print(diccionario['edad'])\n"
      ],
      "metadata": {
        "id": "3NONOMXYCU57"
      },
      "execution_count": null,
      "outputs": []
    },
    {
      "cell_type": "markdown",
      "source": [
        "Notemos que acá no hicimos\n",
        "\n",
        "\n",
        "\n",
        "```\n",
        "# diccionario[1]\n",
        "```\n",
        "sino que usamos como índice directamente la clave:\n",
        "\n",
        "\n",
        "\n",
        "```\n",
        "# diccionario['edad']\n",
        "```\n",
        "\n",
        "\n"
      ],
      "metadata": {
        "id": "GYerxvTkEwmu"
      }
    },
    {
      "cell_type": "markdown",
      "source": [
        "Otro ejemplo:"
      ],
      "metadata": {
        "id": "XENECfnIGVMd"
      }
    },
    {
      "cell_type": "code",
      "source": [
        "frutas_colores = {\n",
        "    'manzana': 'rojo',\n",
        "    'plátano': 'amarillo',\n",
        "    'uva': 'morado',\n",
        "    'naranja': 'naranja'\n",
        "}\n",
        "print(frutas_colores['uva'])"
      ],
      "metadata": {
        "id": "LXmff0gqEv7j"
      },
      "execution_count": null,
      "outputs": []
    },
    {
      "cell_type": "markdown",
      "source": [
        "### Editar elementos de un diccionario"
      ],
      "metadata": {
        "id": "NBuIjO4XKC0K"
      }
    },
    {
      "cell_type": "markdown",
      "source": [
        "Con listas, vimos que se pueden usar también los corchetes para **modificar** elementos:"
      ],
      "metadata": {
        "id": "6eqi3YujQIck"
      }
    },
    {
      "cell_type": "code",
      "source": [
        "animales = [\"mono\", \"tortuga\", \"perro\"]\n",
        "\n",
        "animales[1] = \"gato\"\n",
        "\n",
        "print(animales)"
      ],
      "metadata": {
        "id": "ds0gMnKjLuC2"
      },
      "execution_count": null,
      "outputs": []
    },
    {
      "cell_type": "markdown",
      "source": [
        "Con diccionarios, también podemos hacer esto.\n",
        "\n",
        "Pero, al igual que para acceder a elementos, no usaremos índices numéricos, sino que **obtendremos los valores directamente a través de las claves.**"
      ],
      "metadata": {
        "id": "XWcdRmdNQpKO"
      }
    },
    {
      "cell_type": "code",
      "source": [
        "autos = {\n",
        "    'Toyota': 'Corolla',\n",
        "    'Ford': 'Mustang',\n",
        "    'Chevrolet': 'Camaro',\n",
        "    'Honda': 'Civic'\n",
        "}\n",
        "\n",
        "autos[\"Toyota\"] = \"Camry\"\n",
        "\n",
        "print(autos)"
      ],
      "metadata": {
        "id": "XdgGDcHmQkLC"
      },
      "execution_count": null,
      "outputs": []
    },
    {
      "cell_type": "markdown",
      "source": [
        "Acá le pedimos al diccionario que busque el par que tiene como clave a \"Toyota\", y reemplace su valor por \"Camry\"."
      ],
      "metadata": {
        "id": "mofoXw4VXxVT"
      }
    },
    {
      "cell_type": "markdown",
      "source": [
        "Otro ejemplo:"
      ],
      "metadata": {
        "id": "uie6QgLDX5A-"
      }
    },
    {
      "cell_type": "code",
      "source": [
        "animales = {\n",
        "    'mamífero': 'león',\n",
        "    'ave': 'águila',\n",
        "    'reptil': 'serpiente',\n",
        "    'anfibio': 'rana'\n",
        "}\n",
        "\n",
        "animales[\"mamífero\"] = \"perro\"\n",
        "print(animales)"
      ],
      "metadata": {
        "id": "wS1_9mbEX6FM"
      },
      "execution_count": null,
      "outputs": []
    },
    {
      "cell_type": "markdown",
      "source": [
        "### Añadiendo elementos a un diccionario"
      ],
      "metadata": {
        "id": "-w7b0dWjYWhv"
      }
    },
    {
      "cell_type": "markdown",
      "source": [
        "¡Es muy fácil! Simplemente usamos la misma notación que usamos recién para modificar elementos, pero esta vez con una clave nueva:"
      ],
      "metadata": {
        "id": "U01yvDHXaZh-"
      }
    },
    {
      "cell_type": "code",
      "source": [
        "animales = {\n",
        "    'mamífero': 'león',\n",
        "    'ave': 'águila',\n",
        "    'reptil': 'serpiente',\n",
        "    'anfibio': 'rana'\n",
        "}\n",
        "\n",
        "animales[\"insecto\"] = \"hormiga\"\n",
        "\n",
        "print(animales)"
      ],
      "metadata": {
        "id": "Uj3jaVCQaYLM"
      },
      "execution_count": null,
      "outputs": []
    },
    {
      "cell_type": "markdown",
      "source": [
        "Dado que **no existía** ningún elemento que tuviera como llave **\"insecto\"\"**, se ha creado uno ahora.\n",
        "\n",
        "Agreguemos otro:"
      ],
      "metadata": {
        "id": "UQzMSZNE5-YF"
      }
    },
    {
      "cell_type": "code",
      "source": [
        "\n",
        "animales[\"pez\"] = \"salmóm\"\n",
        "\n",
        "print(animales)"
      ],
      "metadata": {
        "id": "wPJ2oypALWv9"
      },
      "execution_count": null,
      "outputs": []
    },
    {
      "cell_type": "markdown",
      "source": [
        "Nuevamente se ha creado un nuevo par clave-valor."
      ],
      "metadata": {
        "id": "lYUJely26TeT"
      }
    },
    {
      "cell_type": "markdown",
      "source": [
        "### Eliminando un elemento de un diccionario"
      ],
      "metadata": {
        "id": "hxB7PS6c8x7m"
      }
    },
    {
      "cell_type": "markdown",
      "source": [
        "Lo hacemos a través de la palabra clave **del**:\n",
        "\n",
        "**del** viene del inglés \"delete\", justamente \"eliminar\"."
      ],
      "metadata": {
        "id": "H8CUVQyE80rr"
      }
    },
    {
      "cell_type": "code",
      "source": [
        "animales = {\n",
        "    'mamífero': 'león',\n",
        "    'ave': 'águila',\n",
        "    'reptil': 'serpiente',\n",
        "    'anfibio': 'rana'\n",
        "}\n",
        "\n",
        "del animales[\"ave\"]\n",
        "\n",
        "print(animales)"
      ],
      "metadata": {
        "id": "iqAJx4IP875h"
      },
      "execution_count": null,
      "outputs": []
    },
    {
      "cell_type": "markdown",
      "source": [
        "Eliminemos otro:"
      ],
      "metadata": {
        "id": "p2Ia-9tx9Dri"
      }
    },
    {
      "cell_type": "code",
      "source": [
        "\n",
        "del animales[\"anfibio\"]\n",
        "print(animales)"
      ],
      "metadata": {
        "id": "Aaeqnci19DRP"
      },
      "execution_count": null,
      "outputs": []
    },
    {
      "cell_type": "markdown",
      "source": [
        "### Ejercicio 2\n"
      ],
      "metadata": {
        "id": "FrioLL9g6vam"
      }
    },
    {
      "cell_type": "markdown",
      "source": [
        "Dado el siguiente diccionario que contiene información sobre un estudiante, realiza las siguientes tareas:\n",
        "\n",
        "- Accede y muestra el valor de la clave 'nombre'.\n",
        "\n",
        "- Cambia el valor de la clave 'edad' a 21.\n",
        "- Añade una nueva clave 'promedio' con  valor 6.5\n",
        "- Elimina la información sobre la ciudad"
      ],
      "metadata": {
        "id": "T26M4jNr6xot"
      }
    },
    {
      "cell_type": "code",
      "source": [
        "# Diccionario inicial\n",
        "estudiante = {\n",
        "    'nombre': 'Laura',\n",
        "    'edad': 20,\n",
        "    'carrera': 'Ingeniería',\n",
        "    'ciudad': 'Santiago'\n",
        "}\n",
        "\n",
        "#Escribe tu código acá"
      ],
      "metadata": {
        "id": "TV4gf0P_7DAn"
      },
      "execution_count": null,
      "outputs": []
    },
    {
      "cell_type": "markdown",
      "source": [
        "### Atravesando diccionarios con un loop \"for\""
      ],
      "metadata": {
        "id": "AvP_6rxPLXNT"
      }
    },
    {
      "cell_type": "markdown",
      "source": [
        "Como recuerdas, cuando iteramos por una lista, el loop \"for\" recorre cada uno de los elementos constituyentes de la lista:"
      ],
      "metadata": {
        "id": "0CBTnY_X7Zz0"
      }
    },
    {
      "cell_type": "code",
      "source": [
        "lista = [\"mario\", \"luigi\", \"bowser\"]\n",
        "\n",
        "for nombre in lista:\n",
        "  print(nombre)"
      ],
      "metadata": {
        "id": "QzYjCZUE7JcN"
      },
      "execution_count": null,
      "outputs": []
    },
    {
      "cell_type": "markdown",
      "source": [
        "Y cuando iteramos en una string, el loop \"for\" recorre cada una de los caracteres de ella."
      ],
      "metadata": {
        "id": "nF1z5NT67mxV"
      }
    },
    {
      "cell_type": "code",
      "source": [
        "string = \"Hola amigo\"\n",
        "for caracter in string:\n",
        "  print(caracter)"
      ],
      "metadata": {
        "id": "UctU0TuI7vnz"
      },
      "execution_count": null,
      "outputs": []
    },
    {
      "cell_type": "markdown",
      "source": [
        "Pero... en un diccionario tenemos dos cosas, claves y valores, entonces, ¿Python iterará en base a cuál de los dos? 🤔\n",
        "\n",
        "La respuesta es en **base a claves.**\n",
        "\n",
        "**Python por default iterará en base a las claves.**\n",
        "\n",
        "Veamos:"
      ],
      "metadata": {
        "id": "ZYGOTtO0702V"
      }
    },
    {
      "cell_type": "code",
      "source": [
        "personajes_mario_bros = {\n",
        "    'Mario': 'Héroe principal',\n",
        "    'Luigi': 'Hermano y compañero de Mario',\n",
        "    'Peach': 'Princesa del Reino Champiñón',\n",
        "    'Bowser': 'Villano principal',\n",
        "    'Toad': 'Asistente de la Princesa Peach',\n",
        "    'Yoshi': 'Amigo y montura de Mario',\n",
        "    'Donkey Kong': 'Amigo y a veces rival de Mario'\n",
        "}\n",
        "\n",
        "for personaje in personajes_mario_bros:\n",
        "  print(personaje)"
      ],
      "metadata": {
        "id": "4MczHgIh8WB4"
      },
      "execution_count": null,
      "outputs": []
    },
    {
      "cell_type": "markdown",
      "source": [
        "Al ejecutar nuestro loop, los valores fueron ignorados. Solo se iteró a lo largo de las **claves**.\n",
        "\n",
        "Veamos un ejemplo un poco más complicado. ¿Qué hacemos acá?"
      ],
      "metadata": {
        "id": "WsuJY9V09hsW"
      }
    },
    {
      "cell_type": "code",
      "source": [
        "notas = {\n",
        "    'Juan': 5.0,\n",
        "    'Ana': 6.8,\n",
        "    'Luis': 4.5,\n",
        "    'Marta': 3.9,\n",
        "    'Pedro': 5.5\n",
        "}\n",
        "\n",
        "\n",
        "contador_aprobados = 0\n",
        "\n",
        "\n",
        "for estudiante in notas: # Se itera a lo largo de las claves\n",
        "    nota = notas[estudiante] #Y aquí para cada clave extraemos su valor respectivo\n",
        "\n",
        "    if nota > 4.0:\n",
        "        contador_aprobados = contador_aprobados + 1\n",
        "\n",
        "print(\"Hay\", contador_aprobados, \"estudiantes aprobados.\")\n"
      ],
      "metadata": {
        "id": "XbH4MStf-2gN"
      },
      "execution_count": null,
      "outputs": []
    },
    {
      "cell_type": "markdown",
      "source": [
        "### Ejercicio 3"
      ],
      "metadata": {
        "id": "Wk9W7qPh_POw"
      }
    },
    {
      "cell_type": "markdown",
      "source": [
        "A partir del siguiente registro de frutas, cuenta cuántas frutas en total hay en stock:"
      ],
      "metadata": {
        "id": "UI2aLFD__R5H"
      }
    },
    {
      "cell_type": "code",
      "source": [
        "frutas_stock = {\n",
        "    'manzana': 15,\n",
        "    'plátano': 8,\n",
        "    'naranja': 12,\n",
        "    'pera': 6,\n",
        "    'mango': 20\n",
        "}\n",
        "\n",
        "#Escribe tu código aquí"
      ],
      "metadata": {
        "id": "LYtT0awd_W8J"
      },
      "execution_count": null,
      "outputs": []
    },
    {
      "cell_type": "markdown",
      "source": [
        "## 3) Métodos de diccionario"
      ],
      "metadata": {
        "id": "fr3kn2oBLgvV"
      }
    },
    {
      "cell_type": "markdown",
      "source": [
        "Recordemos que los métodos son funciones asociadas a tipos específicos de datos.\n",
        "\n",
        "Se invocan después del nombre del dato, y llevan paréntesis.\n",
        "\n",
        "\".sort()\" es un ejemplo de método de lista. ¿Recuerdas qué hace?"
      ],
      "metadata": {
        "id": "4RK_yy6FRFms"
      }
    },
    {
      "cell_type": "code",
      "source": [
        "lista = [\"mario\", \"luigi\", \"bowser\"]\n",
        "lista.sort()\n",
        "print(lista)"
      ],
      "metadata": {
        "id": "YjOs6ZqgREje"
      },
      "execution_count": null,
      "outputs": []
    },
    {
      "cell_type": "markdown",
      "source": [
        "Examinemos algunos métodos de diccionario.\n",
        "\n",
        "El método **`keys()`** devuelve una vista de las claves en el diccionario."
      ],
      "metadata": {
        "id": "BMN036YrTxpY"
      }
    },
    {
      "cell_type": "code",
      "source": [
        "diccionario_estudiante = {\n",
        "    'nombre': 'Juan',\n",
        "    'edad': 22,\n",
        "    'carrera': 'Ingeniería'\n",
        "}\n",
        "\n",
        "claves = diccionario_estudiante.keys()\n",
        "print(claves)"
      ],
      "metadata": {
        "id": "sz0z6wOyUixk"
      },
      "execution_count": null,
      "outputs": []
    },
    {
      "cell_type": "markdown",
      "source": [
        "El método **values()** devuelve una vista de los valores en el diccionario."
      ],
      "metadata": {
        "id": "MEBh9O5ASBL0"
      }
    },
    {
      "cell_type": "code",
      "source": [
        "valores = diccionario_estudiante.values()\n",
        "print(valores)"
      ],
      "metadata": {
        "id": "TotKqGQrPME1"
      },
      "execution_count": null,
      "outputs": []
    },
    {
      "cell_type": "markdown",
      "source": [
        "Este método es muy útil, porque nos permite **iterar sobre los valores directamente**.\n",
        "\n",
        "Veamos cómo se puede hacer eso con un loop for:"
      ],
      "metadata": {
        "id": "8l_i0JE8U1_z"
      }
    },
    {
      "cell_type": "code",
      "source": [
        "edades = {\n",
        "    'Juan': 16,\n",
        "    'María': 21,\n",
        "    'Pedro': 17,\n",
        "    'Ana': 19,\n",
        "    'Luis': 22\n",
        "}\n",
        "\n",
        "contador_mayores_edad = 0\n",
        "\n",
        "for edad in edades.values(): #Trabajamos directamente en los valores, no en las claves\n",
        "    if edad > 18:\n",
        "        contador_mayores_edad = contador_mayores_edad + 1\n",
        "\n",
        "print(\"Hay\", contador_mayores_edad, \"personas con más de 18 años.\")\n"
      ],
      "metadata": {
        "id": "KnApWDj0VI1U"
      },
      "execution_count": null,
      "outputs": []
    },
    {
      "cell_type": "markdown",
      "source": [
        "Por último, el método **items()** devuelve una vista de los pares clave-valor en el diccionario, juntos."
      ],
      "metadata": {
        "id": "1JrkmhjIViyb"
      }
    },
    {
      "cell_type": "code",
      "source": [
        "items = diccionario_estudiante.items()\n",
        "print(items)"
      ],
      "metadata": {
        "colab": {
          "base_uri": "https://localhost:8080/"
        },
        "id": "3KWT-10HVpya",
        "outputId": "8788d41c-0d19-480b-f9c8-7391740b17f8"
      },
      "execution_count": 4,
      "outputs": [
        {
          "output_type": "stream",
          "name": "stdout",
          "text": [
            "dict_items([('nombre', 'Juan'), ('edad', 22), ('carrera', 'Ingeniería')])\n"
          ]
        }
      ]
    },
    {
      "cell_type": "markdown",
      "source": [
        "Este método también es útil cuando se quiere iterar sobre tanto las claves como los valores:"
      ],
      "metadata": {
        "id": "YWL_3sOuVrVF"
      }
    },
    {
      "cell_type": "code",
      "source": [
        "precios = {\n",
        "    'manzana': 500,\n",
        "    'plátano': 300,\n",
        "    'naranja': 700,\n",
        "    'pera': 400\n",
        "}\n",
        "\n",
        "# Iterar sobre los pares clave-valor del diccionario\n",
        "for producto, precio in precios.items():\n",
        "    print(\"El precio de\", producto, \"es:\", precio)\n"
      ],
      "metadata": {
        "id": "5pfeVpl1V5I9"
      },
      "execution_count": null,
      "outputs": []
    },
    {
      "cell_type": "markdown",
      "source": [
        "Notar que acá en el for utilizamos la clave(\"producto\") y el valor(\"precio) al mismo tiempo."
      ],
      "metadata": {
        "id": "UeS_rSnSV-Se"
      }
    },
    {
      "cell_type": "markdown",
      "source": [
        "En resumen:\n",
        "\n",
        "1) Si queremos iterar sobre claves, usamos un loop \"for\" normal.\n",
        "\n",
        "2) Si queremos iterar sobre valores, usamos un loop \"for\" con el método .values.\n",
        "\n",
        "3) Si queremos iterar sobre claves y valores, usamos un loop \"for\" con el método .items."
      ],
      "metadata": {
        "id": "ZmWoPJxhWHX9"
      }
    },
    {
      "cell_type": "markdown",
      "source": [
        "### Ejercicio 4"
      ],
      "metadata": {
        "id": "Bp14vGqxWjTN"
      }
    },
    {
      "cell_type": "markdown",
      "source": [
        "Calcula el promedio de temperaturas de la semana.\n",
        "\n",
        "Puedes encontrar primero la suma total con un loop for, y luego dividirlo por el total de elementos"
      ],
      "metadata": {
        "id": "LBWm9SORX8Ti"
      }
    },
    {
      "cell_type": "code",
      "source": [
        "temperaturas = {\n",
        "    'lunes': 20,\n",
        "    'martes': 22,\n",
        "    'miércoles': 19,\n",
        "    'jueves': 23,\n",
        "    'viernes': 21\n",
        "}\n",
        "\n",
        "#Escribe tu código acá"
      ],
      "metadata": {
        "id": "FoEbQQ10XFyM"
      },
      "execution_count": null,
      "outputs": []
    },
    {
      "cell_type": "markdown",
      "source": [
        "## 4) Ejercicios opcionales"
      ],
      "metadata": {
        "id": "o8Wo6feZLjO3"
      }
    },
    {
      "cell_type": "markdown",
      "source": [
        "1) Imprime el nombre del estudiante con la mejor nota:"
      ],
      "metadata": {
        "id": "cBxM05CZWwkL"
      }
    },
    {
      "cell_type": "code",
      "source": [
        "notas = {\n",
        "    'Juan': 5.0,\n",
        "    'Ana': 6.8,\n",
        "    'Luis': 4.5,\n",
        "    'Marta': 3.9,\n",
        "    'Pedro': 5.5\n",
        "}\n"
      ],
      "metadata": {
        "id": "Gokl2ZD5WzBt"
      },
      "execution_count": null,
      "outputs": []
    },
    {
      "cell_type": "markdown",
      "source": [
        "2) Cuenta cuántas personas tienen \"azul\" como color favorito"
      ],
      "metadata": {
        "id": "3WpjOVzCW6LO"
      }
    },
    {
      "cell_type": "code",
      "source": [
        "colores_favoritos = {\n",
        "    'Juan': 'rojo',\n",
        "    'Ana': 'azul',\n",
        "    'Luis': 'verde',\n",
        "    'Marta': 'azul',\n",
        "    'Pedro': 'amarillo'\n",
        "}\n"
      ],
      "metadata": {
        "id": "12tH0BZ6W9RK"
      },
      "execution_count": null,
      "outputs": []
    },
    {
      "cell_type": "markdown",
      "source": [
        "3) Duplica cada número que está en los valores de este diccionario"
      ],
      "metadata": {
        "id": "E2qq9K3uXeWd"
      }
    },
    {
      "cell_type": "code",
      "source": [
        "numeros = {\n",
        "    'a': 1,\n",
        "    'b': 3,\n",
        "    'c': 5,\n",
        "    'd': 7\n",
        "}"
      ],
      "metadata": {
        "id": "tvfKTk_gXiFx"
      },
      "execution_count": null,
      "outputs": []
    }
  ]
}