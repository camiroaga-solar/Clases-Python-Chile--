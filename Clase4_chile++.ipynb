{
  "cells": [
    {
      "cell_type": "markdown",
      "metadata": {
        "id": "s4gz0EdVxLPF"
      },
      "source": [
        "# Clase 3: Flujo de control y bucles\n",
        "\n"
      ]
    },
    {
      "cell_type": "markdown",
      "metadata": {
        "id": "Xa7iubQieVBR"
      },
      "source": [
        "# 1) While"
      ]
    },
    {
      "cell_type": "markdown",
      "metadata": {
        "id": "-a2w-pOaR84n"
      },
      "source": [
        "## Repetir expresiones con while"
      ]
    },
    {
      "cell_type": "markdown",
      "metadata": {
        "id": "MjtSaI-bInBt"
      },
      "source": [
        "Supongamos que queremos hacer una cuenta regresiva en Python, del 10 al 1.\n",
        "\n",
        "Podríamos usar una serie de prints:\n"
      ]
    },
    {
      "cell_type": "code",
      "execution_count": 2,
      "metadata": {},
      "outputs": [
        {
          "name": "stdout",
          "output_type": "stream",
          "text": [
            "10\n",
            "9\n",
            "8\n",
            "7\n",
            "6\n",
            "5\n",
            "4\n",
            "3\n",
            "2\n",
            "1\n",
            "0\n"
          ]
        }
      ],
      "source": [
        "print(10)\n",
        "print(9)\n",
        "print(8)\n",
        "print(7)\n",
        "print(6)\n",
        "print(5)\n",
        "print(4)\n",
        "print(3)\n",
        "print(2)\n",
        "print(1)\n",
        "print(0)"
      ]
    },
    {
      "cell_type": "markdown",
      "metadata": {},
      "source": [
        "Pero, ¿qué pasa si queremos hacer una cuenta regresiva de 100 a 0? Escribir más de 100 prints sería bastante arduo.\n",
        "\n",
        "En estos casos podemos usar un **\"While\"**. Lo que hace un **while** es ejecutar código mientras se cumpla una condición. "
      ]
    },
    {
      "cell_type": "code",
      "execution_count": 11,
      "metadata": {
        "colab": {
          "base_uri": "https://localhost:8080/"
        },
        "id": "rS98PCefNNJq",
        "outputId": "b54df0a7-8cd2-440d-9169-539a9aa9a755"
      },
      "outputs": [
        {
          "name": "stdout",
          "output_type": "stream",
          "text": [
            "El valor del número es: 5\n",
            "El valor del número es: 4\n",
            "El valor del número es: 3\n",
            "El valor del número es: 2\n",
            "El valor del número es: 1\n",
            "El valor del número es: 0\n"
          ]
        }
      ],
      "source": [
        "numero = 5\n",
        "\n",
        "while numero >= 0:\n",
        "    print(\"El valor del número es:\", numero)\n",
        "    numero = numero - 1"
      ]
    },
    {
      "cell_type": "markdown",
      "metadata": {},
      "source": [
        "Detengámonos a examinar este código. \n",
        "\n",
        "**While** en inglés significa *mientras*, por lo que podríamos traducirlo como:\n",
        "\n",
        "> Mientras el número sea mayor o igual a cero, imprímelo y réstale 1.\n",
        "\n",
        "Estas son todas las iteraciones que se ejecutan:\n",
        "\n",
        "> \"numero\" vale 5, por lo que es mayor o igual a 0. Entonces lo imprimo y le resto 1. Ahora \"numero\" vale 4.\n",
        "\n",
        "> \"numero\" vale 4, por lo que es mayor o igual a 0. Entonces lo imprimo y le resto 1. Ahora \"numero\" vale 3.\n",
        "\n",
        "> \"numero\" vale 3, por lo que es mayor o igual a 0. Entonces lo imprimo y le resto 1. Ahora \"numero\" vale 2.\n",
        "\n",
        "> \"numero\" vale 2, por lo que es mayor o igual a 0. Entonces lo imprimo y le resto 1. Ahora \"numero\" vale 1.\n",
        "\n",
        "> \"numero\" vale 1, por lo que es mayor o igual a 0. Entonces lo imprimo y le resto 1. Ahora \"numero\" vale 0.\n",
        "\n",
        "> \"numero\" vale 0, por lo que es mayor o igual a 0. Entonces lo imprimo y le resto 1. Ahora \"numero\" vale -1.\n",
        "\n",
        "> \"numero\" vale -1, por lo que  NO es mayor a 0. Entonces  NO lo imprimo y  NO le resto 1.\n",
        "\n",
        "> Fin del programa"
      ]
    },
    {
      "cell_type": "markdown",
      "metadata": {},
      "source": [
        "Veamos un ejemplo similar:"
      ]
    },
    {
      "cell_type": "code",
      "execution_count": 1,
      "metadata": {
        "id": "_BP19J-pNVoW"
      },
      "outputs": [
        {
          "name": "stdout",
          "output_type": "stream",
          "text": [
            "True\n"
          ]
        }
      ],
      "source": [
        "print (4 > 3)"
      ]
    },
    {
      "cell_type": "markdown",
      "metadata": {
        "id": "DgUdNqc5GXxG"
      },
      "source": [
        "La clase pasada vimos algunos ejemplos de expresiones que pueden ser evaluadas a un valor \"True\" o \"False\", como por ejemplo comparaciones entre números.\n",
        "\n",
        "¿Qué valor tendrán estas expresiones, True o False?"
      ]
    },
    {
      "cell_type": "code",
      "execution_count": null,
      "metadata": {
        "id": "nhGhMyE-G7vp"
      },
      "outputs": [],
      "source": [
        "print(3 < 10)\n",
        "print(2 > 8)\n",
        "print(5 <= 5)\n",
        "print(6 >= 9)"
      ]
    },
    {
      "cell_type": "markdown",
      "metadata": {
        "id": "ilzfmNNeHIqa"
      },
      "source": [
        "Podemos usar variables también:"
      ]
    },
    {
      "cell_type": "code",
      "execution_count": null,
      "metadata": {
        "id": "ZtD6EoprHKLS"
      },
      "outputs": [],
      "source": [
        "numero = 4\n",
        "\n",
        "numero_2 = 10\n",
        "\n",
        "print (10 >= 4)"
      ]
    },
    {
      "cell_type": "markdown",
      "metadata": {
        "id": "SxmuClMlSA4X"
      },
      "source": [
        "## Operador de igualdad \"==\""
      ]
    },
    {
      "cell_type": "markdown",
      "metadata": {
        "id": "bTqXNJXDNZqL"
      },
      "source": [
        "Existen otros operadores de comparación. Por ejemplo, si queremos evaluar la igualdad de dos objetos, podemos usar el operador **\"==\"**."
      ]
    },
    {
      "cell_type": "code",
      "execution_count": null,
      "metadata": {
        "id": "vgqKU5A3PLro"
      },
      "outputs": [],
      "source": [
        "print (3 == 3)\n",
        "print (3 == 4)"
      ]
    },
    {
      "cell_type": "markdown",
      "metadata": {
        "id": "vq95PCXtI5Kz"
      },
      "source": [
        "¿Qué pasa si comparamos cadenas de texto o strings?"
      ]
    },
    {
      "cell_type": "code",
      "execution_count": null,
      "metadata": {
        "id": "8tp4pmcaI8C7"
      },
      "outputs": [],
      "source": [
        "print(\"mario\" == \"mario\")"
      ]
    },
    {
      "cell_type": "code",
      "execution_count": null,
      "metadata": {
        "id": "Y6IettXTI-5M"
      },
      "outputs": [],
      "source": [
        "print(\"mario\" == \"rodrigo\")"
      ]
    },
    {
      "cell_type": "markdown",
      "metadata": {
        "id": "hMUJcK1jJB2y"
      },
      "source": [
        "¿Qué crees que pasará con esta, True o False?"
      ]
    },
    {
      "cell_type": "code",
      "execution_count": null,
      "metadata": {
        "id": "r-hgHgVuJDlN"
      },
      "outputs": [],
      "source": [
        "print(\"mario\" == \"Mario\")"
      ]
    },
    {
      "cell_type": "markdown",
      "metadata": {
        "id": "x7Wrbhi-JKTk"
      },
      "source": [
        "¿y esta?"
      ]
    },
    {
      "cell_type": "code",
      "execution_count": null,
      "metadata": {
        "id": "uce_EhdtJIoH"
      },
      "outputs": [],
      "source": [
        "print(\"mario \" == \"mario\")"
      ]
    },
    {
      "cell_type": "markdown",
      "metadata": {
        "id": "L23sOma2JYwJ"
      },
      "source": [
        "Python es sensible a las mayúsculas, y también a los espacios dentro de las cadenas de texto. Para que todos cadenas de texto sean iguales, tienen que tener exactamente los mismos caracteres en el mismo orden.\n",
        "\n",
        "Veamos lo mismo, pero con variables:"
      ]
    },
    {
      "cell_type": "code",
      "execution_count": null,
      "metadata": {
        "id": "FChtnp6PJ96f"
      },
      "outputs": [],
      "source": [
        "nombre = \"Rico\"\n",
        "apellido = \"McPato\"\n",
        "\n",
        "print(nombre == apellido)"
      ]
    },
    {
      "cell_type": "markdown",
      "metadata": {
        "id": "2U90t2tDIUOR"
      },
      "source": [
        "Ojo! 👁️ un \"=\" **no **es lo mismo que un \"==\".\n",
        "\n",
        "Un signo igual \"=\" se usa para **asignar variables**, mientras que los **dos signos iguales** se usan para verificar igualdad. Veámoslo de nuevo"
      ]
    },
    {
      "cell_type": "code",
      "execution_count": null,
      "metadata": {
        "id": "PBqwKfrrPG5J"
      },
      "outputs": [],
      "source": [
        "nombre_1 = \"minion\"\n",
        "nombre_2 = \"minion\"\n",
        "\n",
        "print (nombre_1 == nombre_2)"
      ]
    },
    {
      "cell_type": "markdown",
      "metadata": {
        "id": "wRLCGccDKxLq"
      },
      "source": [
        "Veamos qué pasa si nos equivocamos y ponemos solo un \"=\" en la comparación."
      ]
    },
    {
      "cell_type": "code",
      "execution_count": null,
      "metadata": {
        "id": "LmvLfcRZK2bg"
      },
      "outputs": [],
      "source": [
        "print (nombre_1 = nombre_2)"
      ]
    },
    {
      "cell_type": "markdown",
      "metadata": {
        "id": "zx7fMDuzS0aA"
      },
      "source": [
        "También podemos usar estos operadores directamente con booleanos. ¿Qué crees que hace esto?"
      ]
    },
    {
      "cell_type": "code",
      "execution_count": null,
      "metadata": {
        "id": "i4EmWfM2S5B0"
      },
      "outputs": [],
      "source": [
        "print (True == False)\n",
        "print (True == True)"
      ]
    },
    {
      "cell_type": "markdown",
      "metadata": {
        "id": "p9TroKxKSE68"
      },
      "source": [
        "## Operador de desigualdad \"!=\""
      ]
    },
    {
      "cell_type": "markdown",
      "metadata": {
        "id": "Dv5_0lhMSPWr"
      },
      "source": [
        "Si queremos verificar que dos objetos son *diferentes*, podemos usar el operador de desigualdad \"!=\".\n",
        "\n",
        "Veamos un ejemplo"
      ]
    },
    {
      "cell_type": "code",
      "execution_count": null,
      "metadata": {
        "id": "vQkqU0f9SOpE"
      },
      "outputs": [],
      "source": [
        "print( 3 != 4)\n",
        "print( 4 != 4)"
      ]
    },
    {
      "cell_type": "markdown",
      "metadata": {
        "id": "O8TuFl1DTVZC"
      },
      "source": [
        "También podemos usarlo con strings y booleanos:"
      ]
    },
    {
      "cell_type": "code",
      "execution_count": null,
      "metadata": {
        "id": "XGXqTthGSq5v"
      },
      "outputs": [],
      "source": [
        "print( \"mario\" != \"Mario\")"
      ]
    },
    {
      "cell_type": "code",
      "execution_count": null,
      "metadata": {
        "id": "zoKCsTcSTZNR"
      },
      "outputs": [],
      "source": [
        "print(True != False)"
      ]
    },
    {
      "cell_type": "markdown",
      "metadata": {
        "id": "FERyIDhob1uT"
      },
      "source": [
        "## Operadores booleanos and, or y not"
      ]
    },
    {
      "cell_type": "markdown",
      "metadata": {
        "id": "O4vIJ_t9b9su"
      },
      "source": [
        "Podemos utilizar \"and\", \"or\" y \"not\" para hacer expresiones de valor booleano más complejas.\n",
        "\n",
        "**\"and\"** significa **\"y\"** en español, y lo que hace es evaluar si sus dos partes son verdaderas. Su valor será verdadero solo si sus dos partes son verdaderas"
      ]
    },
    {
      "cell_type": "code",
      "execution_count": null,
      "metadata": {
        "id": "Ptdk5FFqb9QE"
      },
      "outputs": [],
      "source": [
        "print ( 4>3 and 5>3 )"
      ]
    },
    {
      "cell_type": "markdown",
      "metadata": {
        "id": "XQlG84FUcTg0"
      },
      "source": [
        "Acá nos da \"False\" porque una de las dos no es verdadera. ¿Cuál crees que es?"
      ]
    },
    {
      "cell_type": "code",
      "execution_count": null,
      "metadata": {
        "id": "E5QaU7vfbztp"
      },
      "outputs": [],
      "source": [
        "print ( 4>3 and 2>5 )"
      ]
    },
    {
      "cell_type": "markdown",
      "metadata": {
        "id": "4QwVrV37coGQ"
      },
      "source": [
        "\"or\" significa \"o\", y da verdadero si cualquiera de sus dos partes son verdaderas.\n",
        "\n",
        "Por ejemplo, acá la primera expresión es falsa, pero como la segunda es verdadera, se evalúa como verdadera"
      ]
    },
    {
      "cell_type": "code",
      "execution_count": null,
      "metadata": {
        "id": "WSuqLLmycnpG"
      },
      "outputs": [],
      "source": [
        "print( 2<3 or 4>3)"
      ]
    },
    {
      "cell_type": "markdown",
      "metadata": {
        "id": "0a3Cs1hNe1u6"
      },
      "source": [
        "Un \"and\" *no* la evaluaría como verdadera, porque el \"and\" necesita que cada una de las dos sea verdadera."
      ]
    },
    {
      "cell_type": "code",
      "execution_count": null,
      "metadata": {
        "id": "1FsjhrvwezLp"
      },
      "outputs": [],
      "source": [
        "print( 2<3 and 4>3 )"
      ]
    },
    {
      "cell_type": "markdown",
      "metadata": {
        "id": "hbAvPIOCDfwX"
      },
      "source": [
        "Veamos nuestro último operador lógico: el operador de negación \"not\".\n",
        "\n",
        "Este operador nos da el valor de verdad contrario al que tenemos.\n",
        "\n",
        "Si algo es \"True\", el \"not\" nos dará \"False\".\n",
        "\n",
        "Y si algo es \"False\", el \"not\" nos dará \"True\"."
      ]
    },
    {
      "cell_type": "code",
      "execution_count": null,
      "metadata": {
        "id": "Xegt9GUqDn9M"
      },
      "outputs": [],
      "source": [
        "print(not(True))"
      ]
    },
    {
      "cell_type": "code",
      "execution_count": null,
      "metadata": {
        "id": "lHKLZUosG70G"
      },
      "outputs": [],
      "source": [
        "print(not(False))"
      ]
    },
    {
      "cell_type": "code",
      "execution_count": null,
      "metadata": {
        "id": "17s7DWl4G_eR"
      },
      "outputs": [],
      "source": [
        "print(not( 4 > 3))"
      ]
    },
    {
      "cell_type": "code",
      "execution_count": null,
      "metadata": {
        "id": "_-UTJrgiHCoV"
      },
      "outputs": [],
      "source": [
        "expresion = (4==3)\n",
        "print(not(expresion))"
      ]
    },
    {
      "cell_type": "markdown",
      "metadata": {
        "id": "umwR7AmYHLAq"
      },
      "source": [
        "¿Qué harán estos dos?"
      ]
    },
    {
      "cell_type": "code",
      "execution_count": null,
      "metadata": {
        "id": "Rnr1GyQQHOmL"
      },
      "outputs": [],
      "source": [
        "print(not(not(True)))\n",
        "print(not(not(False)))"
      ]
    },
    {
      "cell_type": "markdown",
      "metadata": {
        "id": "1nlVZndke4Lr"
      },
      "source": [
        "## Ejercicio 1\n",
        "\n"
      ]
    },
    {
      "cell_type": "markdown",
      "metadata": {
        "id": "Qn6BabozfO-T"
      },
      "source": [
        "Señala si el resultado de las siguientes expresiones será \"True\" o \"False\""
      ]
    },
    {
      "cell_type": "code",
      "execution_count": null,
      "metadata": {
        "id": "ezB2_9oMfKqa"
      },
      "outputs": [],
      "source": [
        "print(7 > 3)\n",
        "print(12 == 12)\n",
        "print(-5 < 8)\n",
        "print(0 >= -1)\n",
        "print(10 == 5 + 5)\n",
        "\n",
        "print(\"gato\" == \"gato\")\n",
        "print(\"python\" != \"python3\")\n",
        "print(\"galleta\" == \"Galleta\")\n",
        "\n",
        "print( 4>2 and 3>5)\n",
        "print( 12==12 and 11 ==11)\n",
        "\n",
        "print( 4>2 or 3<2)\n",
        "\n",
        "print( not(3==3))\n"
      ]
    },
    {
      "cell_type": "markdown",
      "metadata": {
        "id": "5Jej9Q2gBPAv"
      },
      "source": [
        "## Ejercicio 2"
      ]
    },
    {
      "cell_type": "markdown",
      "metadata": {
        "id": "mHtJpI02BbFa"
      },
      "source": [
        "Suponiendo que lo entendiera, ¿crees que Python asignaría \"True\" o \"False\" a estas frases?\n",
        "\n",
        "1) (Santiago es la capital de Chile) **and** (Buenos Aires es la capital de Argentina)\n",
        "\n",
        "2) (Santiago es la capital de Chile) **or** (Lima es la capital de Argentina)\n",
        "\n",
        "3) (Santiago es la capital de Argentina) **or** (Roma es la capital de Lima)"
      ]
    },
    {
      "cell_type": "markdown",
      "metadata": {
        "id": "s-pb7f-AxlUm"
      },
      "source": [
        "# 2) Estructuras de control condicionales\n"
      ]
    },
    {
      "cell_type": "markdown",
      "metadata": {
        "id": "LGm2kEIZvmic"
      },
      "source": [
        "## If"
      ]
    },
    {
      "cell_type": "markdown",
      "metadata": {
        "id": "SEK6W2jSylKw"
      },
      "source": [
        "En la programación, a menudo necesitamos tomar decisiones basadas en ciertas condiciones.\n",
        "\n",
        "Por ejemplo, en un videojuego el computador puede decirte \"Si tienes la llave mágica, puedes pasar esta puerta\".\n",
        "\n",
        "En Python, podemos expresar este tipo de condicones con **\"If\"**, que significa **\"si\"** en español."
      ]
    },
    {
      "cell_type": "code",
      "execution_count": null,
      "metadata": {
        "id": "11UpaRruiY_V"
      },
      "outputs": [],
      "source": [
        "edad = 20\n",
        "\n",
        "if edad >= 18:\n",
        "    print(\"Eres mayor de edad.\")"
      ]
    },
    {
      "cell_type": "markdown",
      "metadata": {
        "id": "AzboT8kw87zK"
      },
      "source": [
        "Modifica el código y pon que tu edad es \"10\", ¿qué pasa?\n",
        "\n",
        "Python verifica si la condición de arriba es verdad, o \"True\", y de serlo, ejecuta el código de abajo\n",
        "\n",
        "Otro ejemplo. Modifica el código para que la contraseña sea aceptada:"
      ]
    },
    {
      "cell_type": "code",
      "execution_count": null,
      "metadata": {
        "id": "Bg7CiOek9AmS"
      },
      "outputs": [],
      "source": [
        "contraseña = \"caluga\"\n",
        "\n",
        "if contraseña == \"mario\":\n",
        "  print(\"Contraseña aceptada\")"
      ]
    },
    {
      "cell_type": "markdown",
      "metadata": {
        "id": "dvN1kUUSX7cv"
      },
      "source": [
        "¿Se imprimirá este texto, o no?"
      ]
    },
    {
      "cell_type": "code",
      "execution_count": null,
      "metadata": {
        "id": "EUaYELrLX9m-"
      },
      "outputs": [],
      "source": [
        "if 4 > 3:\n",
        "  print(\"es verdad\")"
      ]
    },
    {
      "cell_type": "markdown",
      "metadata": {
        "id": "ZJwgn36kYDHo"
      },
      "source": [
        "¿y este?"
      ]
    },
    {
      "cell_type": "code",
      "execution_count": null,
      "metadata": {
        "id": "OqQy9Q1AYEZ6"
      },
      "outputs": [],
      "source": [
        "if 4 != 4:\n",
        "  print(\"es verdad\")"
      ]
    },
    {
      "cell_type": "markdown",
      "metadata": {
        "id": "xsO0pCF49F3O"
      },
      "source": [
        "¿Qué hacen estos dos?"
      ]
    },
    {
      "cell_type": "code",
      "execution_count": null,
      "metadata": {
        "id": "TFEI0UZk9JDW"
      },
      "outputs": [],
      "source": [
        "if True:\n",
        "  print(\"holaaa\")"
      ]
    },
    {
      "cell_type": "code",
      "execution_count": null,
      "metadata": {
        "id": "lahFcDmuXsvW"
      },
      "outputs": [],
      "source": [
        "if False:\n",
        "  print(\"chaoo\")"
      ]
    },
    {
      "cell_type": "markdown",
      "metadata": {
        "id": "e-FQA7AmAq2X"
      },
      "source": [
        "## Else"
      ]
    },
    {
      "cell_type": "markdown",
      "metadata": {
        "id": "RNWbbQhyYaay"
      },
      "source": [
        "Si queremos que se ejecute un código en el caso de que la información sea falsa, usamos un \"else\", que puede ser entendido como un \"si no\". Por ejemplo:"
      ]
    },
    {
      "cell_type": "code",
      "execution_count": null,
      "metadata": {
        "colab": {
          "base_uri": "https://localhost:8080/"
        },
        "id": "pyjxnTjRYoaL",
        "outputId": "6dabd48c-359c-4c85-ca95-166c6ee3cf19"
      },
      "outputs": [
        {
          "name": "stdout",
          "output_type": "stream",
          "text": [
            "Eres menor de edad.\n"
          ]
        }
      ],
      "source": [
        "edad = 16\n",
        "\n",
        "if edad >= 18:\n",
        "    print(\"Eres mayor de edad.\")\n",
        "else:\n",
        "    print(\"Eres menor de edad.\")"
      ]
    },
    {
      "cell_type": "markdown",
      "metadata": {
        "id": "sx0Q32SPYtJQ"
      },
      "source": [
        "Esto puede ser entendido como:\n",
        "\n",
        "> Si tu edad es mayor a 18, imprime \"Eres mayor de edad\".\n",
        "\n",
        "> Si no, imprime \"Eres menor de edad\"\n",
        "\n",
        "Veamos otro ejemplo:\n"
      ]
    },
    {
      "cell_type": "code",
      "execution_count": null,
      "metadata": {
        "id": "UWaBZ183ZCpV"
      },
      "outputs": [],
      "source": [
        "contraseña = \"caluga\"\n",
        "\n",
        "if contraseña == \"mario\":\n",
        "  print(\"Contraseña aceptada\")\n",
        "else:\n",
        "  print(\"Contraseña rechazada\")"
      ]
    },
    {
      "cell_type": "markdown",
      "metadata": {
        "id": "q4sx7_bWZhkm"
      },
      "source": [
        "De la misma manera, esto puede ser entendido como:\n",
        "\n",
        "> Si la contraseña ingresada es \"caluga\", aceptarla.\n",
        "\n",
        "> Si no, rechazarla\n",
        "\n",
        "Hagamos esto mismo pero con un input para recibir la contraseña del usuario:"
      ]
    },
    {
      "cell_type": "code",
      "execution_count": null,
      "metadata": {
        "id": "Z2huXvP2ZtTH"
      },
      "outputs": [],
      "source": [
        "contraseña = input(\"Ingresa la contraseña: \")\n",
        "\n",
        "if contraseña == \"mario\":\n",
        "  print(\"Contraseña aceptada\")\n",
        "else:\n",
        "  print(\"Contraseña rechazada\")"
      ]
    },
    {
      "cell_type": "markdown",
      "metadata": {
        "id": "U2HSWqCCJSFp"
      },
      "source": [
        "¿Te acuerdas del operador \"%\"? Sirve para obtener el resto de una división entera.\n",
        "\n",
        "Lo podemos usar acá para discriminar entre números pares e impares."
      ]
    },
    {
      "cell_type": "code",
      "execution_count": null,
      "metadata": {
        "id": "BTHSFrSPKmY9"
      },
      "outputs": [],
      "source": [
        "numero = int(input(\"Ingresa tu número: \"))\n",
        "\n",
        "if numero % 2 == 0:\n",
        "  print(\"Tu número es par\")\n",
        "else:\n",
        "  print(\"Tu número es impar\")"
      ]
    },
    {
      "cell_type": "markdown",
      "metadata": {
        "id": "h2bl9YUSNzui"
      },
      "source": [
        "¿Recuerdas por qué ponemos \"int\" antes del \"input\" ? 🤔"
      ]
    },
    {
      "cell_type": "markdown",
      "metadata": {
        "id": "Pq4HlyCgxuRv"
      },
      "source": [
        "## Ejercicio 3\n",
        "\n"
      ]
    },
    {
      "cell_type": "markdown",
      "metadata": {
        "id": "7btcTgbVP43_"
      },
      "source": [
        "Imagina que eres parte de un club secreto de ancianos que solo recibe miembros cuya edad es mayor a 60 años.\n",
        "\n",
        "Crea un programa que reciba la edad del usuario, y si tiene más de 60 años, le dices \"¡Bienvenido al club!\", y si no, le dices \"Lo siento, eres muy joven 😛\""
      ]
    },
    {
      "cell_type": "code",
      "execution_count": null,
      "metadata": {
        "id": "siU5yKSajsBg"
      },
      "outputs": [],
      "source": [
        "# Escribe tu código aquí"
      ]
    },
    {
      "cell_type": "markdown",
      "metadata": {
        "id": "LOZ9IOqVqoET"
      },
      "source": [
        "## Elif"
      ]
    },
    {
      "cell_type": "markdown",
      "metadata": {
        "id": "c4b2TomRkDoc"
      },
      "source": [
        "A veces necesitamos hacer condiciones con más de dos opciones.\n",
        "\n",
        "Para eso, podemos usar **\"elif\"**"
      ]
    },
    {
      "cell_type": "code",
      "execution_count": null,
      "metadata": {
        "id": "xwoJA23WpD53"
      },
      "outputs": [],
      "source": [
        "edad = 16\n",
        "\n",
        "if edad < 13:\n",
        "    print(\"Eres un niño.\")\n",
        "elif edad < 18:\n",
        "    print(\"Eres un adolescente.\")\n",
        "else:\n",
        "    print(\"Eres un adulto.\")"
      ]
    },
    {
      "cell_type": "markdown",
      "metadata": {
        "id": "VE3HxO9VKIL7"
      },
      "source": [
        "Este programa es equivalente a decir:\n",
        "\n",
        "> Si tienes menos de 13 años, eres un niño.\n",
        "\n",
        "> Si no eres un niño y tienes menos de 18 años, eres un adolescente.\n",
        "\n",
        "> Si no cumples ninguna de las dos condiciones, eres un adulto."
      ]
    },
    {
      "cell_type": "markdown",
      "metadata": {
        "id": "gKQ_h4T8pNRp"
      },
      "source": [
        "Otro ejemplo:"
      ]
    },
    {
      "cell_type": "code",
      "execution_count": null,
      "metadata": {
        "id": "Ni837s4TOLsY"
      },
      "outputs": [],
      "source": [
        "velocidad = int(input(\"Ingresa tu velocidad: \"))\n",
        "\n",
        "if velocidad > 30:\n",
        "  print(\"Eres muy rápido\")\n",
        "elif velocidad > 20:\n",
        "  print(\"Eres rápido\")\n",
        "else:\n",
        "  print(\"Eres una TORTUGA\")"
      ]
    },
    {
      "cell_type": "markdown",
      "metadata": {
        "id": "qNrD4o4vRfS-"
      },
      "source": [
        "Veamos un ejemplo con nuestra amiga tortuga:"
      ]
    },
    {
      "cell_type": "code",
      "execution_count": null,
      "metadata": {
        "colab": {
          "base_uri": "https://localhost:8080/"
        },
        "id": "1b5QD-WpRorw",
        "outputId": "7b8b7034-13f2-4ea1-d69e-8ae5f770f469"
      },
      "outputs": [
        {
          "name": "stdout",
          "output_type": "stream",
          "text": [
            "Requirement already satisfied: ColabTurtlePlus in /usr/local/lib/python3.10/dist-packages (2.0.1)\n"
          ]
        }
      ],
      "source": [
        "!pip install ColabTurtlePlus"
      ]
    },
    {
      "cell_type": "code",
      "execution_count": null,
      "metadata": {
        "id": "rEdB8XCHRjcD"
      },
      "outputs": [],
      "source": [
        "from ColabTurtlePlus.Turtle import *\n",
        "clearscreen()\n",
        "\n",
        "\n",
        "t = Turtle()\n",
        "t.shape(\"turtle\")\n",
        "t.fillcolor(\"green\")\n",
        "\n",
        "comando = input(\"Ingresa el comando: circulo o linea: \")\n",
        "\n",
        "if comando == \"circulo\":\n",
        "  t.circle(50)\n",
        "elif comando == \"linea\":\n",
        "  t.fd(100)\n",
        "else:\n",
        "  print(\"Elige un comando válido.\")\n"
      ]
    },
    {
      "cell_type": "markdown",
      "metadata": {
        "id": "X4yMKgn_Znzj"
      },
      "source": [
        "## Ejercicio 4"
      ]
    },
    {
      "cell_type": "markdown",
      "metadata": {
        "id": "8wYUbYe0QeNK"
      },
      "source": [
        "Escribe un programa que recibe un número del usuario, si el número es negativo imprime \"negativo\", si el número es positivo imprime \"positivo\", y si es cero, imprime \"0\"."
      ]
    },
    {
      "cell_type": "code",
      "execution_count": null,
      "metadata": {
        "id": "6zuKL8QcObpb"
      },
      "outputs": [],
      "source": [
        "# Escribe tu código aquí"
      ]
    },
    {
      "cell_type": "markdown",
      "metadata": {
        "id": "aTJp3I3fPvwf"
      },
      "source": [
        "# 3) Condicionales anidados"
      ]
    },
    {
      "cell_type": "markdown",
      "metadata": {
        "id": "96RIN27VP89b"
      },
      "source": [
        "A veces tenemos que usar un condicional dentro de un condicional, un if dentro de un if."
      ]
    },
    {
      "cell_type": "code",
      "execution_count": null,
      "metadata": {
        "id": "pFBkyVBXS7As"
      },
      "outputs": [],
      "source": [
        "edad = 20\n",
        "genero = \"M\"\n",
        "\n",
        "\n",
        "if edad < 18:\n",
        "    if genero == \"M\":\n",
        "        print(\"Eres un niño\")\n",
        "    else:\n",
        "        print(\"Eres una niña\")\n",
        "else:\n",
        "    if genero == \"M\":\n",
        "        print(\"Eres un hombre\")\n",
        "    else:\n",
        "        print(\"Eres una mujer\")"
      ]
    },
    {
      "cell_type": "markdown",
      "metadata": {
        "id": "gZ-C5nScTHJ4"
      },
      "source": [
        "En este ejemplo:\n",
        "\n",
        "> Primero se verifica si la edad es menor a 18. Si es verdadero, se entra al primer bloque if y se verifica el género:\n",
        "\n",
        ">      Si el género es \"M\", se imprime \"Eres un niño\".\n",
        ">      Si el género es \"F\", se imprime \"Eres una niña\".\n",
        "\n",
        "> Si la edad no es menor a 18, se salta al bloque else. En el bloque else, se verifica nuevamente el género.\n",
        "\n",
        ">      Si el género es \"M\", se imprime \"Eres un hombre\".\n",
        ">      Si el género es \"F\", se imprime \"Eres una mujer\"."
      ]
    },
    {
      "cell_type": "markdown",
      "metadata": {
        "id": "NougibbCUujK"
      },
      "source": [
        "¿Cómo funciona este otro ejemplo?"
      ]
    },
    {
      "cell_type": "code",
      "execution_count": null,
      "metadata": {
        "id": "yyIJDPVkUw6o"
      },
      "outputs": [],
      "source": [
        "edad = 20\n",
        "tiene_licencia = \"Si\"\n",
        "\n",
        "if edad >= 18:\n",
        "    if tiene_licencia == \"Si\":\n",
        "        print(\"Puedes conducir.\")\n",
        "    else:\n",
        "        print(\"No puedes conducir. Necesitas una licencia.\")\n",
        "else:\n",
        "    print(\"No puedes conducir. Debes ser mayor de edad.\")"
      ]
    },
    {
      "cell_type": "markdown",
      "metadata": {
        "id": "-_wCWqM7VCs2"
      },
      "source": [
        "## Ejercicio 5"
      ]
    },
    {
      "cell_type": "markdown",
      "metadata": {
        "id": "5vetLixGVFDh"
      },
      "source": [
        "Crea un programa que reciba un número, e imprima si es negativo, cero o positivo. Si es positivo, también tiene que imprimir si es par o impar."
      ]
    },
    {
      "cell_type": "code",
      "execution_count": null,
      "metadata": {
        "id": "wNCicjXxVEGk"
      },
      "outputs": [],
      "source": [
        "#Escribe tu código acá"
      ]
    },
    {
      "cell_type": "markdown",
      "metadata": {
        "id": "deQ9mt5S76Sw"
      },
      "source": [
        "# Ejercicios opcionales"
      ]
    },
    {
      "cell_type": "markdown",
      "metadata": {
        "id": "rDCDmcVt79ZM"
      },
      "source": [
        "1) Crea un programa que reciba tu nota del 1 al 7 y determine si tienes un azul o un rojo.\n",
        "\n",
        "2) Crea un programa que reciba los tres lados de un triángulo, y determine si es equilátero, escaleno o iscóceles.\n",
        "\n",
        "3) Una empresa de correos hace envíos nacionales e internacionales. Los precios de los envíos son:\n",
        "\n",
        "    a) 1000 para un envío nacional menor a 1kg\n",
        "\n",
        "    b) 2000 para un envío nacional mayor a 1kg\n",
        "\n",
        "    c) 3000 para un envío internacional a cualquier peso.\n",
        "\n",
        "\n",
        "Crea un programa que reciba el peso y el tipo de envío (nacional/internacional) y calcula el costo de envío.\n",
        "\n"
      ]
    }
  ],
  "metadata": {
    "colab": {
      "provenance": []
    },
    "kernelspec": {
      "display_name": "Python 3",
      "name": "python3"
    },
    "language_info": {
      "codemirror_mode": {
        "name": "ipython",
        "version": 3
      },
      "file_extension": ".py",
      "mimetype": "text/x-python",
      "name": "python",
      "nbconvert_exporter": "python",
      "pygments_lexer": "ipython3",
      "version": "3.11.4"
    }
  },
  "nbformat": 4,
  "nbformat_minor": 0
}
